{
  "nbformat": 4,
  "nbformat_minor": 0,
  "metadata": {
    "colab": {
      "provenance": [],
      "collapsed_sections": []
    },
    "kernelspec": {
      "name": "python3",
      "display_name": "Python 3"
    },
    "language_info": {
      "name": "python"
    },
    "accelerator": "GPU"
  },
  "cells": [
    {
      "cell_type": "code",
      "source": [
        "!pip install split-folders"
      ],
      "metadata": {
        "colab": {
          "base_uri": "https://localhost:8080/"
        },
        "id": "VJAzC8b_BB4A",
        "outputId": "cfc8ea85-50f6-401e-f958-7273e40e428b"
      },
      "execution_count": 1,
      "outputs": [
        {
          "output_type": "stream",
          "name": "stdout",
          "text": [
            "Looking in indexes: https://pypi.org/simple, https://us-python.pkg.dev/colab-wheels/public/simple/\n",
            "Collecting split-folders\n",
            "  Downloading split_folders-0.5.1-py3-none-any.whl (8.4 kB)\n",
            "Installing collected packages: split-folders\n",
            "Successfully installed split-folders-0.5.1\n"
          ]
        }
      ]
    },
    {
      "cell_type": "code",
      "execution_count": 2,
      "metadata": {
        "id": "zYvcZsXcAtYl"
      },
      "outputs": [],
      "source": [
        "import matplotlib.pyplot as plt\n",
        "import numpy as np\n",
        "import os\n",
        "import PIL\n",
        "import tensorflow as tf\n",
        "import pathlib\n",
        "import cv2\n",
        "from keras.preprocessing.image import ImageDataGenerator\n",
        "from tensorflow import keras\n",
        "from tensorflow.keras import layers\n",
        "from tensorflow.keras.models import Sequential\n",
        "from keras.models import Sequential, Model,load_model\n",
        "from keras.callbacks import EarlyStopping,ModelCheckpoint\n",
        "from keras.layers import Input, Add, Dense, Activation, ZeroPadding2D, BatchNormalization, Flatten, Conv2D, AveragePooling2D, MaxPooling2D, GlobalMaxPooling2D,MaxPool2D\n",
        "from keras.preprocessing import image\n",
        "from keras.initializers import glorot_uniform\n",
        "from sklearn.metrics import accuracy_score, precision_score, recall_score, f1_score, cohen_kappa_score, roc_auc_score, confusion_matrix\n",
        "from sklearn.metrics import classification_report\n",
        "from keras.layers import Input, Add, Dense, Activation, ZeroPadding2D, BatchNormalization, Flatten, Conv2D, AveragePooling2D, MaxPooling2D, GlobalMaxPooling2D,MaxPool2D,Dropout\n",
        "import tensorflow as tf\n",
        "import splitfolders \n",
        "import pandas as pd\n",
        "import glob\n",
        "from sklearn.metrics import confusion_matrix\n",
        "import itertools\n",
        "import plotly.graph_objects as go\n",
        "import plotly.express as px\n",
        "#Suppressing Warnings\n",
        "os.environ['TF_CPP_MIN_LOG_LEVEL'] = '2'"
      ]
    },
    {
      "cell_type": "code",
      "source": [
        "!pip install opendatasets"
      ],
      "metadata": {
        "colab": {
          "base_uri": "https://localhost:8080/"
        },
        "id": "Ih9bHA_UA-Lv",
        "outputId": "3f51ecb5-c13c-49c3-82b9-682868e4a86e"
      },
      "execution_count": 3,
      "outputs": [
        {
          "output_type": "stream",
          "name": "stdout",
          "text": [
            "Looking in indexes: https://pypi.org/simple, https://us-python.pkg.dev/colab-wheels/public/simple/\n",
            "Collecting opendatasets\n",
            "  Downloading opendatasets-0.1.22-py3-none-any.whl (15 kB)\n",
            "Requirement already satisfied: kaggle in /usr/local/lib/python3.7/dist-packages (from opendatasets) (1.5.12)\n",
            "Requirement already satisfied: tqdm in /usr/local/lib/python3.7/dist-packages (from opendatasets) (4.64.1)\n",
            "Requirement already satisfied: click in /usr/local/lib/python3.7/dist-packages (from opendatasets) (7.1.2)\n",
            "Requirement already satisfied: certifi in /usr/local/lib/python3.7/dist-packages (from kaggle->opendatasets) (2022.9.24)\n",
            "Requirement already satisfied: requests in /usr/local/lib/python3.7/dist-packages (from kaggle->opendatasets) (2.23.0)\n",
            "Requirement already satisfied: urllib3 in /usr/local/lib/python3.7/dist-packages (from kaggle->opendatasets) (1.24.3)\n",
            "Requirement already satisfied: python-dateutil in /usr/local/lib/python3.7/dist-packages (from kaggle->opendatasets) (2.8.2)\n",
            "Requirement already satisfied: six>=1.10 in /usr/local/lib/python3.7/dist-packages (from kaggle->opendatasets) (1.15.0)\n",
            "Requirement already satisfied: python-slugify in /usr/local/lib/python3.7/dist-packages (from kaggle->opendatasets) (6.1.2)\n",
            "Requirement already satisfied: text-unidecode>=1.3 in /usr/local/lib/python3.7/dist-packages (from python-slugify->kaggle->opendatasets) (1.3)\n",
            "Requirement already satisfied: chardet<4,>=3.0.2 in /usr/local/lib/python3.7/dist-packages (from requests->kaggle->opendatasets) (3.0.4)\n",
            "Requirement already satisfied: idna<3,>=2.5 in /usr/local/lib/python3.7/dist-packages (from requests->kaggle->opendatasets) (2.10)\n",
            "Installing collected packages: opendatasets\n",
            "Successfully installed opendatasets-0.1.22\n"
          ]
        }
      ]
    },
    {
      "cell_type": "code",
      "source": [
        "import opendatasets as od"
      ],
      "metadata": {
        "id": "ikLyIo33BS-C"
      },
      "execution_count": 4,
      "outputs": []
    },
    {
      "cell_type": "code",
      "source": [
        "dataset_url='https://www.kaggle.com/datasets/drgfreeman/rockpaperscissors'\n",
        "od.download(dataset_url)"
      ],
      "metadata": {
        "colab": {
          "base_uri": "https://localhost:8080/"
        },
        "id": "HA9jqLBFBp3O",
        "outputId": "a4ed2b04-46f9-4fc8-a75d-1fef9f0ce806"
      },
      "execution_count": 5,
      "outputs": [
        {
          "output_type": "stream",
          "name": "stdout",
          "text": [
            "Downloading rockpaperscissors.zip to ./rockpaperscissors\n"
          ]
        },
        {
          "output_type": "stream",
          "name": "stderr",
          "text": [
            "100%|██████████| 306M/306M [00:09<00:00, 33.9MB/s]\n"
          ]
        },
        {
          "output_type": "stream",
          "name": "stdout",
          "text": [
            "\n"
          ]
        }
      ]
    },
    {
      "cell_type": "code",
      "source": [
        "data_url='/content/rockpaperscissors'"
      ],
      "metadata": {
        "id": "elmpNFazE0Qq"
      },
      "execution_count": 6,
      "outputs": []
    },
    {
      "cell_type": "code",
      "source": [
        "!ls -lh {data_url}"
      ],
      "metadata": {
        "colab": {
          "base_uri": "https://localhost:8080/"
        },
        "id": "TKWHyeG5E4q6",
        "outputId": "4b14606c-0a93-48f9-dc79-2b3e37103979"
      },
      "execution_count": 7,
      "outputs": [
        {
          "output_type": "stream",
          "name": "stdout",
          "text": [
            "total 116K\n",
            "drwxr-xr-x 2 root root  36K Oct 24 10:31 paper\n",
            "-rw-r--r-- 1 root root  879 Oct 24 10:31 README_rpc-cv-images.txt\n",
            "drwxr-xr-x 2 root root  36K Oct 24 10:31 rock\n",
            "drwxr-xr-x 5 root root 4.0K Oct 24 10:31 rps-cv-images\n",
            "drwxr-xr-x 2 root root  36K Oct 24 10:31 scissors\n"
          ]
        }
      ]
    },
    {
      "cell_type": "code",
      "source": [
        "paper_url='/content/rockpaperscissors/paper'\n",
        "rock_url='/content/rockpaperscissors/rock'\n",
        "scissor_url='/content/rockpaperscissors/scissors'"
      ],
      "metadata": {
        "id": "TpbwCT5PCdXk"
      },
      "execution_count": 7,
      "outputs": []
    },
    {
      "cell_type": "code",
      "source": [
        "!ls -lh {paper_url}"
      ],
      "metadata": {
        "colab": {
          "base_uri": "https://localhost:8080/"
        },
        "id": "JhTzVmaECsSP",
        "outputId": "158fb00a-04cb-4bed-f4f3-af86f78a3f35"
      },
      "execution_count": 9,
      "outputs": [
        {
          "output_type": "stream",
          "name": "stdout",
          "text": [
            "total 54M\n",
            "-rw-r--r-- 1 root root 84K Oct 24 10:31 04l5I8TqdzF9WDMJ.png\n",
            "-rw-r--r-- 1 root root 83K Oct 24 10:31 0a3UtNzl5Ll3sq8K.png\n",
            "-rw-r--r-- 1 root root 69K Oct 24 10:31 0cb6cVL8pkfi4wF6.png\n",
            "-rw-r--r-- 1 root root 58K Oct 24 10:31 0eqArS2GgsBeqgSn.png\n",
            "-rw-r--r-- 1 root root 68K Oct 24 10:31 0Og76sl5CJhbxWWx.png\n",
            "-rw-r--r-- 1 root root 82K Oct 24 10:31 0RA9rcrv8iVvuDDU.png\n",
            "-rw-r--r-- 1 root root 70K Oct 24 10:31 0t08v9bAaA0mXGCQ.png\n",
            "-rw-r--r-- 1 root root 78K Oct 24 10:31 0Uomd0HvOB33m47I.png\n",
            "-rw-r--r-- 1 root root 79K Oct 24 10:31 0vugygEjxQJPr9yz.png\n",
            "-rw-r--r-- 1 root root 81K Oct 24 10:31 0zKU6wEhT2cDe9j0.png\n",
            "-rw-r--r-- 1 root root 83K Oct 24 10:31 14K62H4KG1hg5qiJ.png\n",
            "-rw-r--r-- 1 root root 81K Oct 24 10:31 1Dfw5FRlS4h60JPX.png\n",
            "-rw-r--r-- 1 root root 78K Oct 24 10:31 1fKclJk4eBWOQSR1.png\n",
            "-rw-r--r-- 1 root root 79K Oct 24 10:31 1Frbe8cdOdkciOBg.png\n",
            "-rw-r--r-- 1 root root 64K Oct 24 10:31 1jHtb93pI8f6pfKo.png\n",
            "-rw-r--r-- 1 root root 80K Oct 24 10:31 1oKnUgV2CdCaQUUX.png\n",
            "-rw-r--r-- 1 root root 63K Oct 24 10:31 1Tt9U9SzrOm98Xtw.png\n",
            "-rw-r--r-- 1 root root 71K Oct 24 10:31 1uoW7QcH2qAgCTxv.png\n",
            "-rw-r--r-- 1 root root 91K Oct 24 10:31 1yeoLbmp4alVOtFv.png\n",
            "-rw-r--r-- 1 root root 71K Oct 24 10:31 1yKjzquSvl9ShK7K.png\n",
            "-rw-r--r-- 1 root root 62K Oct 24 10:31 27XFtQjjXQ8AP8Tl.png\n",
            "-rw-r--r-- 1 root root 82K Oct 24 10:31 2DQbLQfHlfrcATqi.png\n",
            "-rw-r--r-- 1 root root 79K Oct 24 10:31 2F8Ng7620ANA7tEK.png\n",
            "-rw-r--r-- 1 root root 57K Oct 24 10:31 2IOsxsG8AaxntdJM.png\n",
            "-rw-r--r-- 1 root root 62K Oct 24 10:31 2OCAZGNv2OEzgAwU.png\n",
            "-rw-r--r-- 1 root root 81K Oct 24 10:31 2PAcPusQ59xIMfiw.png\n",
            "-rw-r--r-- 1 root root 63K Oct 24 10:31 2PiUTczN5Ez4VreF.png\n",
            "-rw-r--r-- 1 root root 73K Oct 24 10:31 2SldJqjiZwIVPef9.png\n",
            "-rw-r--r-- 1 root root 80K Oct 24 10:31 2tDgPZGqbrw95j39.png\n",
            "-rw-r--r-- 1 root root 83K Oct 24 10:31 2UKnsncgPodQLOFR.png\n",
            "-rw-r--r-- 1 root root 71K Oct 24 10:31 37PRV3B9HxuUPkQr.png\n",
            "-rw-r--r-- 1 root root 74K Oct 24 10:31 389udM70tLrMVL5H.png\n",
            "-rw-r--r-- 1 root root 83K Oct 24 10:31 3JN7OPsnxDBpcVeD.png\n",
            "-rw-r--r-- 1 root root 74K Oct 24 10:31 3K6a8bG8j1YTH1l0.png\n",
            "-rw-r--r-- 1 root root 65K Oct 24 10:31 3MMu7EXUtM6aEtXU.png\n",
            "-rw-r--r-- 1 root root 81K Oct 24 10:31 3sKeYzYsjbWQVhc4.png\n",
            "-rw-r--r-- 1 root root 73K Oct 24 10:31 3tNHP8R9YHru011u.png\n",
            "-rw-r--r-- 1 root root 71K Oct 24 10:31 3tyVmhojjwETaf1u.png\n",
            "-rw-r--r-- 1 root root 82K Oct 24 10:31 3XEQ73XMn7zaww2T.png\n",
            "-rw-r--r-- 1 root root 78K Oct 24 10:31 3YvRoN0ZGuXVWEbh.png\n",
            "-rw-r--r-- 1 root root 81K Oct 24 10:31 41HC0VBlHSRhi0AG.png\n",
            "-rw-r--r-- 1 root root 59K Oct 24 10:31 4484TuJc6AH7pDOG.png\n",
            "-rw-r--r-- 1 root root 81K Oct 24 10:31 45ho1tx7W1LZB0DU.png\n",
            "-rw-r--r-- 1 root root 89K Oct 24 10:31 45OQyZuXtfNCc8Rk.png\n",
            "-rw-r--r-- 1 root root 91K Oct 24 10:31 460WcktBwCAzsU0A.png\n",
            "-rw-r--r-- 1 root root 63K Oct 24 10:31 4aWP3XumkgwZtqZ7.png\n",
            "-rw-r--r-- 1 root root 80K Oct 24 10:31 4Bimc2E5E9jTh1Fh.png\n",
            "-rw-r--r-- 1 root root 79K Oct 24 10:31 4bkmUMq0wOXElBIl.png\n",
            "-rw-r--r-- 1 root root 80K Oct 24 10:31 4dpYSXpjYbiH9MSq.png\n",
            "-rw-r--r-- 1 root root 78K Oct 24 10:31 4fCqIVTEuFLsQMaZ.png\n",
            "-rw-r--r-- 1 root root 78K Oct 24 10:31 4Fxr7klOIfijCpio.png\n",
            "-rw-r--r-- 1 root root 77K Oct 24 10:31 4hcthlc3eCByBJFh.png\n",
            "-rw-r--r-- 1 root root 60K Oct 24 10:31 4IwJ2iL6pFz5ARWA.png\n",
            "-rw-r--r-- 1 root root 80K Oct 24 10:31 4Pir885YNPXiRs0R.png\n",
            "-rw-r--r-- 1 root root 76K Oct 24 10:31 4ZoU4nouZzb9G2MI.png\n",
            "-rw-r--r-- 1 root root 64K Oct 24 10:31 50Wjlq1jW7o3wcl8.png\n",
            "-rw-r--r-- 1 root root 79K Oct 24 10:31 52nvTykEONIdmqQI.png\n",
            "-rw-r--r-- 1 root root 81K Oct 24 10:31 54xah1BB0YTQS3Ib.png\n",
            "-rw-r--r-- 1 root root 80K Oct 24 10:31 5Cy2fFOaWMFwa5iu.png\n",
            "-rw-r--r-- 1 root root 79K Oct 24 10:31 5eRezaxzYX8Canq0.png\n",
            "-rw-r--r-- 1 root root 71K Oct 24 10:31 5FVy5hSvZ9c0M2Y5.png\n",
            "-rw-r--r-- 1 root root 80K Oct 24 10:31 5Iz9WPYz1C3PKWxj.png\n",
            "-rw-r--r-- 1 root root 80K Oct 24 10:31 5jcXrtjEVtQwI0Wa.png\n",
            "-rw-r--r-- 1 root root 60K Oct 24 10:31 5kJec3v9txvrAb4g.png\n",
            "-rw-r--r-- 1 root root 83K Oct 24 10:31 5NsmQol0TP7h80bh.png\n",
            "-rw-r--r-- 1 root root 77K Oct 24 10:31 5RvFm2PYoG18yIZO.png\n",
            "-rw-r--r-- 1 root root 57K Oct 24 10:31 5U8st2LCr9zLl5og.png\n",
            "-rw-r--r-- 1 root root 83K Oct 24 10:31 68QZtdP6UaIcIE55.png\n",
            "-rw-r--r-- 1 root root 80K Oct 24 10:31 6BIKQpfZEfQkCvrz.png\n",
            "-rw-r--r-- 1 root root 80K Oct 24 10:31 6NzgMmSELzk3WtZh.png\n",
            "-rw-r--r-- 1 root root 84K Oct 24 10:31 6OhEpnz0QxBCfbXE.png\n",
            "-rw-r--r-- 1 root root 57K Oct 24 10:31 6q2PxM8Kk16UxoMY.png\n",
            "-rw-r--r-- 1 root root 71K Oct 24 10:31 6wuALDd920vZ0qZE.png\n",
            "-rw-r--r-- 1 root root 64K Oct 24 10:31 6ycslJxTsTjZc5H2.png\n",
            "-rw-r--r-- 1 root root 82K Oct 24 10:31 73UfZ8Dwj0OB66IV.png\n",
            "-rw-r--r-- 1 root root 58K Oct 24 10:31 74FZPuPPfVCwqHgO.png\n",
            "-rw-r--r-- 1 root root 68K Oct 24 10:31 755DbuyE4rf2oGPA.png\n",
            "-rw-r--r-- 1 root root 76K Oct 24 10:31 77rce5yVvVPIPmp8.png\n",
            "-rw-r--r-- 1 root root 84K Oct 24 10:31 7fRLxoheLluOwCkp.png\n",
            "-rw-r--r-- 1 root root 71K Oct 24 10:31 7I1fABs6SL1T4MNb.png\n",
            "-rw-r--r-- 1 root root 77K Oct 24 10:31 7IYZ788SAadhvemj.png\n",
            "-rw-r--r-- 1 root root 77K Oct 24 10:31 7L3Xke8iQBzywEPH.png\n",
            "-rw-r--r-- 1 root root 67K Oct 24 10:31 7NyxZyxSJ1gphzUE.png\n",
            "-rw-r--r-- 1 root root 73K Oct 24 10:31 7PSJU8kbZf8S6FRW.png\n",
            "-rw-r--r-- 1 root root 77K Oct 24 10:31 7Px9USAD7J56woB0.png\n",
            "-rw-r--r-- 1 root root 81K Oct 24 10:31 7UoLr02FuYuLrJxz.png\n",
            "-rw-r--r-- 1 root root 73K Oct 24 10:31 7v943QrV87m1Fx5U.png\n",
            "-rw-r--r-- 1 root root 80K Oct 24 10:31 7Vor5Uo4DweXkpE7.png\n",
            "-rw-r--r-- 1 root root 59K Oct 24 10:31 7w91NsCtVzsPOSYB.png\n",
            "-rw-r--r-- 1 root root 65K Oct 24 10:31 7YbjJFHGHPhJQFvE.png\n",
            "-rw-r--r-- 1 root root 82K Oct 24 10:31 7ZGsbIMypDIEZxR0.png\n",
            "-rw-r--r-- 1 root root 58K Oct 24 10:31 821xYeW8U0Iy6qVX.png\n",
            "-rw-r--r-- 1 root root 65K Oct 24 10:31 84JL84r6Jcpp5Udi.png\n",
            "-rw-r--r-- 1 root root 80K Oct 24 10:31 89dWYgfIZm624Pf6.png\n",
            "-rw-r--r-- 1 root root 67K Oct 24 10:31 8cUuoeM7qSsAGoOv.png\n",
            "-rw-r--r-- 1 root root 83K Oct 24 10:31 8I8hrFbPPNz6qWeV.png\n",
            "-rw-r--r-- 1 root root 84K Oct 24 10:31 8NNPWO3e2oNq8lg9.png\n",
            "-rw-r--r-- 1 root root 75K Oct 24 10:31 8q4xxTvBVnXTRSQy.png\n",
            "-rw-r--r-- 1 root root 88K Oct 24 10:31 8qhPJIViAhfZTJkA.png\n",
            "-rw-r--r-- 1 root root 80K Oct 24 10:31 8vCpdCGSnX8CopJJ.png\n",
            "-rw-r--r-- 1 root root 80K Oct 24 10:31 8X1BUL9w2OMExPy5.png\n",
            "-rw-r--r-- 1 root root 89K Oct 24 10:31 90GH8JQWUw9PUnlA.png\n",
            "-rw-r--r-- 1 root root 59K Oct 24 10:31 9bQFlg61mt0akPoM.png\n",
            "-rw-r--r-- 1 root root 88K Oct 24 10:31 9Dto1OCNf5wjYimE.png\n",
            "-rw-r--r-- 1 root root 80K Oct 24 10:31 9giVcOVtFf85mQZd.png\n",
            "-rw-r--r-- 1 root root 80K Oct 24 10:31 9GnoYJhsreNoV2Wn.png\n",
            "-rw-r--r-- 1 root root 65K Oct 24 10:31 9hKJu3ZMso4Qbtfh.png\n",
            "-rw-r--r-- 1 root root 76K Oct 24 10:31 9OyGmAsWD5Ie6QIa.png\n",
            "-rw-r--r-- 1 root root 71K Oct 24 10:31 9qKKOliWXD7oDZOd.png\n",
            "-rw-r--r-- 1 root root 72K Oct 24 10:31 9RmM1chbNsDKXXlg.png\n",
            "-rw-r--r-- 1 root root 80K Oct 24 10:31 9rwmakEj6Wg1YQWW.png\n",
            "-rw-r--r-- 1 root root 85K Oct 24 10:31 9szmJOWlXxEbjDGV.png\n",
            "-rw-r--r-- 1 root root 83K Oct 24 10:31 9v75qnx8zdeAAOq6.png\n",
            "-rw-r--r-- 1 root root 88K Oct 24 10:31 9WQaDoiIDC4zGPr8.png\n",
            "-rw-r--r-- 1 root root 81K Oct 24 10:31 9xyvz1JbPwNqtLgH.png\n",
            "-rw-r--r-- 1 root root 83K Oct 24 10:31 9yGlnLxGtzq1gJti.png\n",
            "-rw-r--r-- 1 root root 78K Oct 24 10:31 9zfyVkUcku0qc4Gu.png\n",
            "-rw-r--r-- 1 root root 77K Oct 24 10:31 9zuFLFklb0ibEelE.png\n",
            "-rw-r--r-- 1 root root 57K Oct 24 10:31 a0CaFEDoDB7qeyhN.png\n",
            "-rw-r--r-- 1 root root 64K Oct 24 10:31 A0Dgq561RAiluT9p.png\n",
            "-rw-r--r-- 1 root root 66K Oct 24 10:31 a21pgCIQ9pl0Guv5.png\n",
            "-rw-r--r-- 1 root root 71K Oct 24 10:31 a45DJKHJdnCFhX5X.png\n",
            "-rw-r--r-- 1 root root 72K Oct 24 10:31 a9SyLOjQZE4llCvX.png\n",
            "-rw-r--r-- 1 root root 62K Oct 24 10:31 aac4C8FFlVQw6aGM.png\n",
            "-rw-r--r-- 1 root root 80K Oct 24 10:31 ac0j8jCfz8hwpY0o.png\n",
            "-rw-r--r-- 1 root root 79K Oct 24 10:31 ACUZLBMxCu3AWgUu.png\n",
            "-rw-r--r-- 1 root root 83K Oct 24 10:31 aeVtGl2LQBr831P5.png\n",
            "-rw-r--r-- 1 root root 69K Oct 24 10:31 af6U4DsLPicCZcED.png\n",
            "-rw-r--r-- 1 root root 80K Oct 24 10:31 Af7KstxKjdhzUQyk.png\n",
            "-rw-r--r-- 1 root root 79K Oct 24 10:31 AfvIbTwxuG0q7Ij1.png\n",
            "-rw-r--r-- 1 root root 64K Oct 24 10:31 aICabYNb79bdS6Mu.png\n",
            "-rw-r--r-- 1 root root 73K Oct 24 10:31 aINwMVFw8UopgTOm.png\n",
            "-rw-r--r-- 1 root root 80K Oct 24 10:31 aJeRqPY3UVBErDTY.png\n",
            "-rw-r--r-- 1 root root 80K Oct 24 10:31 AjwddXm0ttm7Ts5J.png\n",
            "-rw-r--r-- 1 root root 62K Oct 24 10:31 aKUFn8PEF7LP8BaX.png\n",
            "-rw-r--r-- 1 root root 71K Oct 24 10:31 AMewmfMVCnLfbuNr.png\n",
            "-rw-r--r-- 1 root root 61K Oct 24 10:31 aOiWbMZF8BhxwLTs.png\n",
            "-rw-r--r-- 1 root root 81K Oct 24 10:31 AqNY2b7NX9Ce3CjZ.png\n",
            "-rw-r--r-- 1 root root 70K Oct 24 10:31 Arbkrts1pXpDNgFV.png\n",
            "-rw-r--r-- 1 root root 80K Oct 24 10:31 AtfMvZ19yfJJZapD.png\n",
            "-rw-r--r-- 1 root root 73K Oct 24 10:31 atICt4otp6p6h31G.png\n",
            "-rw-r--r-- 1 root root 70K Oct 24 10:31 ATs4aFUIODixPnMI.png\n",
            "-rw-r--r-- 1 root root 80K Oct 24 10:31 av2NxK494nd72Q13.png\n",
            "-rw-r--r-- 1 root root 81K Oct 24 10:31 aw7H9dMuThRnO74k.png\n",
            "-rw-r--r-- 1 root root 81K Oct 24 10:31 axwcCc4rC8ySUtML.png\n",
            "-rw-r--r-- 1 root root 75K Oct 24 10:31 AYfr1pZxmZyZaXWu.png\n",
            "-rw-r--r-- 1 root root 80K Oct 24 10:31 B08mrGoODd5gGTvu.png\n",
            "-rw-r--r-- 1 root root 65K Oct 24 10:31 b15QGB4XPECDemV5.png\n",
            "-rw-r--r-- 1 root root 80K Oct 24 10:31 B3dlyiRDulDJWOsW.png\n",
            "-rw-r--r-- 1 root root 82K Oct 24 10:31 B6dJfDThlXx80Uk6.png\n",
            "-rw-r--r-- 1 root root 82K Oct 24 10:31 b8dw4ZOgMTx2h1xI.png\n",
            "-rw-r--r-- 1 root root 81K Oct 24 10:31 B9PzXQbhzehhxFRN.png\n",
            "-rw-r--r-- 1 root root 75K Oct 24 10:31 B9WSmSgclFPB3TOL.png\n",
            "-rw-r--r-- 1 root root 67K Oct 24 10:31 BbOoLEGslGMBu7sj.png\n",
            "-rw-r--r-- 1 root root 68K Oct 24 10:31 bddldJIGmQP5CSLD.png\n",
            "-rw-r--r-- 1 root root 77K Oct 24 10:31 BfFGJgByTJnxADwA.png\n",
            "-rw-r--r-- 1 root root 57K Oct 24 10:31 BH9zAUdmmjlfXwtS.png\n",
            "-rw-r--r-- 1 root root 73K Oct 24 10:31 BI9YnLkJ5wFZe6w8.png\n",
            "-rw-r--r-- 1 root root 74K Oct 24 10:31 BLqL31aC5YLmx3uF.png\n",
            "-rw-r--r-- 1 root root 80K Oct 24 10:31 BoMfAmQYWtoiGHBV.png\n",
            "-rw-r--r-- 1 root root 80K Oct 24 10:31 BoXJ7o2SeSRRfuAH.png\n",
            "-rw-r--r-- 1 root root 78K Oct 24 10:31 bPTh8OjfiaJfzdcw.png\n",
            "-rw-r--r-- 1 root root 79K Oct 24 10:31 BqGdYFfhQ4sOU5Xl.png\n",
            "-rw-r--r-- 1 root root 62K Oct 24 10:31 bQO2dBIReHsgMCBi.png\n",
            "-rw-r--r-- 1 root root 80K Oct 24 10:31 BTG0fjXM09DyD4sh.png\n",
            "-rw-r--r-- 1 root root 83K Oct 24 10:31 bTurr7qf07hoPQu1.png\n",
            "-rw-r--r-- 1 root root 70K Oct 24 10:31 BVfw3Er2AUBqREYJ.png\n",
            "-rw-r--r-- 1 root root 63K Oct 24 10:31 bWjObTeNghy8Z1zE.png\n",
            "-rw-r--r-- 1 root root 60K Oct 24 10:31 bxn0wMR4QebqVl62.png\n",
            "-rw-r--r-- 1 root root 84K Oct 24 10:31 byBLmTC0iWfnT7wo.png\n",
            "-rw-r--r-- 1 root root 79K Oct 24 10:31 C0WynzBAhXQGSywJ.png\n",
            "-rw-r--r-- 1 root root 77K Oct 24 10:31 C3j6RdTEo4jf6Cr4.png\n",
            "-rw-r--r-- 1 root root 66K Oct 24 10:31 c4FpTJmUl8wtm4n3.png\n",
            "-rw-r--r-- 1 root root 82K Oct 24 10:31 C5LDaiOquQm9mDVH.png\n",
            "-rw-r--r-- 1 root root 80K Oct 24 10:31 C7zCG474LseZgn8o.png\n",
            "-rw-r--r-- 1 root root 82K Oct 24 10:31 C9tAvywdtjDTnllg.png\n",
            "-rw-r--r-- 1 root root 72K Oct 24 10:31 CbiqUiChqkXHb8jk.png\n",
            "-rw-r--r-- 1 root root 81K Oct 24 10:31 cf9L4KKsfsFpRrYA.png\n",
            "-rw-r--r-- 1 root root 83K Oct 24 10:31 cfCjmEcXysh0H52D.png\n",
            "-rw-r--r-- 1 root root 85K Oct 24 10:31 CHf3O6SDtuPbbD0s.png\n",
            "-rw-r--r-- 1 root root 56K Oct 24 10:31 cI2tl5vM2koXZPfG.png\n",
            "-rw-r--r-- 1 root root 80K Oct 24 10:31 CIN4oPYURMvc4xTb.png\n",
            "-rw-r--r-- 1 root root 79K Oct 24 10:31 CJ3BCSOVp8uzaPnY.png\n",
            "-rw-r--r-- 1 root root 77K Oct 24 10:31 ClP1hwm5k2IQsG1B.png\n",
            "-rw-r--r-- 1 root root 83K Oct 24 10:31 cMbbpVIgFU95R4tO.png\n",
            "-rw-r--r-- 1 root root 81K Oct 24 10:31 CnRjJejRPD3QmYTl.png\n",
            "-rw-r--r-- 1 root root 79K Oct 24 10:31 cOHWfHkyo8sqWnpW.png\n",
            "-rw-r--r-- 1 root root 75K Oct 24 10:31 coKLsdqkvkYUv247.png\n",
            "-rw-r--r-- 1 root root 77K Oct 24 10:31 COmibsBioPBur0V9.png\n",
            "-rw-r--r-- 1 root root 71K Oct 24 10:31 CpDMCILKUN2AUA1A.png\n",
            "-rw-r--r-- 1 root root 79K Oct 24 10:31 cQ0dBO3yHPohZ9U9.png\n",
            "-rw-r--r-- 1 root root 79K Oct 24 10:31 CrEzO2508GiIMFrx.png\n",
            "-rw-r--r-- 1 root root 79K Oct 24 10:31 crYtjQcVKQjCAWYq.png\n",
            "-rw-r--r-- 1 root root 85K Oct 24 10:31 Cto0fRvS0ns9lVrs.png\n",
            "-rw-r--r-- 1 root root 81K Oct 24 10:31 cuDzhxpWujBPgJmX.png\n",
            "-rw-r--r-- 1 root root 80K Oct 24 10:31 cUFSYeNYdnhRB6MD.png\n",
            "-rw-r--r-- 1 root root 74K Oct 24 10:31 cw7oAjQLSjDYZPXH.png\n",
            "-rw-r--r-- 1 root root 59K Oct 24 10:31 CwFaCN3ykqwQ6KZV.png\n",
            "-rw-r--r-- 1 root root 90K Oct 24 10:31 Cx9G4YyKPI9MPcqp.png\n",
            "-rw-r--r-- 1 root root 80K Oct 24 10:31 CxcQ3XRBjkkmZ9b8.png\n",
            "-rw-r--r-- 1 root root 77K Oct 24 10:31 cXZYoC2Bu8SeHasE.png\n",
            "-rw-r--r-- 1 root root 84K Oct 24 10:31 D3mbFhVy7zFkZEtV.png\n",
            "-rw-r--r-- 1 root root 59K Oct 24 10:31 d5FmD95HmhodiITj.png\n",
            "-rw-r--r-- 1 root root 75K Oct 24 10:31 D9nbrQLDSgDMNh3G.png\n",
            "-rw-r--r-- 1 root root 78K Oct 24 10:31 DBriMZZSZtYea72l.png\n",
            "-rw-r--r-- 1 root root 81K Oct 24 10:31 DDHIkmyeaJPV7k0A.png\n",
            "-rw-r--r-- 1 root root 75K Oct 24 10:31 dDtRH0QF7IPSsasH.png\n",
            "-rw-r--r-- 1 root root 79K Oct 24 10:31 DE5gewqrqzSaVsdI.png\n",
            "-rw-r--r-- 1 root root 82K Oct 24 10:31 dF7Gvm0vgCJZofAW.png\n",
            "-rw-r--r-- 1 root root 80K Oct 24 10:31 dftjUImANb0Q9pMA.png\n",
            "-rw-r--r-- 1 root root 82K Oct 24 10:31 DGR6Jkl5GJY9Sez0.png\n",
            "-rw-r--r-- 1 root root 83K Oct 24 10:31 Di7hVJMSS3DzbSTi.png\n",
            "-rw-r--r-- 1 root root 68K Oct 24 10:31 dIg7Ds4xEzk0pyWZ.png\n",
            "-rw-r--r-- 1 root root 58K Oct 24 10:31 djVVgBL6PqTdtr6l.png\n",
            "-rw-r--r-- 1 root root 79K Oct 24 10:31 dmT5g2m3meABNfCJ.png\n",
            "-rw-r--r-- 1 root root 77K Oct 24 10:31 DOuDihjhzIuZ2skd.png\n",
            "-rw-r--r-- 1 root root 70K Oct 24 10:31 dPSQ4TKPBJyjv6cH.png\n",
            "-rw-r--r-- 1 root root 80K Oct 24 10:31 DsaaqkHZUN3pmcwH.png\n",
            "-rw-r--r-- 1 root root 58K Oct 24 10:31 dUDR2ViadkqS6EHf.png\n",
            "-rw-r--r-- 1 root root 63K Oct 24 10:31 Dvamqz9JlSMySW1i.png\n",
            "-rw-r--r-- 1 root root 60K Oct 24 10:31 dyHfn1GBYIj195b5.png\n",
            "-rw-r--r-- 1 root root 71K Oct 24 10:31 dZh2VMRu9nRGHhYL.png\n",
            "-rw-r--r-- 1 root root 71K Oct 24 10:31 dZxpgHYRuQNv7T7A.png\n",
            "-rw-r--r-- 1 root root 77K Oct 24 10:31 E10FR2TKbBsv9Hgm.png\n",
            "-rw-r--r-- 1 root root 81K Oct 24 10:31 E4TyifCgPm6OwcrY.png\n",
            "-rw-r--r-- 1 root root 70K Oct 24 10:31 e50cckZL8BKmqzjd.png\n",
            "-rw-r--r-- 1 root root 81K Oct 24 10:31 e6blzPfvGcrcHaKl.png\n",
            "-rw-r--r-- 1 root root 82K Oct 24 10:31 e96cq72UJTICTkE0.png\n",
            "-rw-r--r-- 1 root root 79K Oct 24 10:31 Ea6A81oe4Ria2MW3.png\n",
            "-rw-r--r-- 1 root root 78K Oct 24 10:31 eaOtD5yLQHTuFTz3.png\n",
            "-rw-r--r-- 1 root root 65K Oct 24 10:31 eASnEW16rlMUPMf3.png\n",
            "-rw-r--r-- 1 root root 79K Oct 24 10:31 eBjRjXUIy7fpUaRy.png\n",
            "-rw-r--r-- 1 root root 79K Oct 24 10:31 eBU0DmyWZu3WLjSO.png\n",
            "-rw-r--r-- 1 root root 64K Oct 24 10:31 Ec6WrF6Soj4REPk7.png\n",
            "-rw-r--r-- 1 root root 76K Oct 24 10:31 eCpHvcUt4r7A9xJE.png\n",
            "-rw-r--r-- 1 root root 80K Oct 24 10:31 eCZWzeGkpX6rdizo.png\n",
            "-rw-r--r-- 1 root root 84K Oct 24 10:31 ehzdlf5B1HtVgpRs.png\n",
            "-rw-r--r-- 1 root root 77K Oct 24 10:31 eiiwN1DsKoIheMgz.png\n",
            "-rw-r--r-- 1 root root 79K Oct 24 10:31 EJ42U85HcmJV7JVm.png\n",
            "-rw-r--r-- 1 root root 80K Oct 24 10:31 EJ7cNnnea5yCEaOd.png\n",
            "-rw-r--r-- 1 root root 82K Oct 24 10:31 ejC8QIku5jrtci48.png\n",
            "-rw-r--r-- 1 root root 65K Oct 24 10:31 eLBTZkvB4E951ml0.png\n",
            "-rw-r--r-- 1 root root 68K Oct 24 10:31 eLNpUj2AZ1h4Mrxu.png\n",
            "-rw-r--r-- 1 root root 84K Oct 24 10:31 em91htnBohvtnG2e.png\n",
            "-rw-r--r-- 1 root root 81K Oct 24 10:31 ePEd8TOzTgrGz5M2.png\n",
            "-rw-r--r-- 1 root root 85K Oct 24 10:31 Eq9tohFHMpYXWQZH.png\n",
            "-rw-r--r-- 1 root root 81K Oct 24 10:31 eQaNnPaHwKsOJaYq.png\n",
            "-rw-r--r-- 1 root root 82K Oct 24 10:31 et9oIiGQmAgwy7GK.png\n",
            "-rw-r--r-- 1 root root 58K Oct 24 10:31 EuU83pQABhf4v0AF.png\n",
            "-rw-r--r-- 1 root root 81K Oct 24 10:31 EVtIRpfQ2ys2A3ag.png\n",
            "-rw-r--r-- 1 root root 76K Oct 24 10:31 eW9ezZkV7Jxu1BEk.png\n",
            "-rw-r--r-- 1 root root 80K Oct 24 10:31 f1aYiLdB5VC3L8Kk.png\n",
            "-rw-r--r-- 1 root root 82K Oct 24 10:31 f423uSEl5slK7nbj.png\n",
            "-rw-r--r-- 1 root root 81K Oct 24 10:31 FcIIjteQItMuIuRa.png\n",
            "-rw-r--r-- 1 root root 71K Oct 24 10:31 fCX7MPg0xO4QP2Mk.png\n",
            "-rw-r--r-- 1 root root 81K Oct 24 10:31 FEdPo8Z0t3bB1hHC.png\n",
            "-rw-r--r-- 1 root root 64K Oct 24 10:31 fiX6rjBt5qHGMsjc.png\n",
            "-rw-r--r-- 1 root root 79K Oct 24 10:31 fjITlTb11LELvo3e.png\n",
            "-rw-r--r-- 1 root root 80K Oct 24 10:31 FJoRrTDakCLyWs75.png\n",
            "-rw-r--r-- 1 root root 84K Oct 24 10:31 FKhLHIIqEsYmoZxy.png\n",
            "-rw-r--r-- 1 root root 85K Oct 24 10:31 FltCm1ep2lcnsOYz.png\n",
            "-rw-r--r-- 1 root root 78K Oct 24 10:31 FmDdvclwy9Wc1zfc.png\n",
            "-rw-r--r-- 1 root root 80K Oct 24 10:31 fMkDqtJgZAKa7dl5.png\n",
            "-rw-r--r-- 1 root root 82K Oct 24 10:31 fnbn7osMCGWmqHKZ.png\n",
            "-rw-r--r-- 1 root root 61K Oct 24 10:31 fPwDPzGZ5JeY0rb9.png\n",
            "-rw-r--r-- 1 root root 77K Oct 24 10:31 FqTkhXfEVeaGHReH.png\n",
            "-rw-r--r-- 1 root root 66K Oct 24 10:31 fSWSXO9fumLluiAF.png\n",
            "-rw-r--r-- 1 root root 71K Oct 24 10:31 FT9FiK5l1lohzfxI.png\n",
            "-rw-r--r-- 1 root root 75K Oct 24 10:31 FVEAFUE9uhfJPi2f.png\n",
            "-rw-r--r-- 1 root root 61K Oct 24 10:31 fwnVVskCSNkB9LUL.png\n",
            "-rw-r--r-- 1 root root 78K Oct 24 10:31 FwR0aXsgOZ5KHDjH.png\n",
            "-rw-r--r-- 1 root root 80K Oct 24 10:31 FxLuxwBp9Hw2th2O.png\n",
            "-rw-r--r-- 1 root root 59K Oct 24 10:31 fYuJzeeHPzGwlGh0.png\n",
            "-rw-r--r-- 1 root root 76K Oct 24 10:31 g028Qv0lVlEbKi1q.png\n",
            "-rw-r--r-- 1 root root 76K Oct 24 10:31 G4QepYlFnpE8Zse4.png\n",
            "-rw-r--r-- 1 root root 79K Oct 24 10:31 Gc4hUsoFAQBdulGg.png\n",
            "-rw-r--r-- 1 root root 85K Oct 24 10:31 GelC88IvDZoRejHp.png\n",
            "-rw-r--r-- 1 root root 81K Oct 24 10:31 gFqfkMtX39sTkrSB.png\n",
            "-rw-r--r-- 1 root root 79K Oct 24 10:31 gO7yxcP6H1vZ7lOe.png\n",
            "-rw-r--r-- 1 root root 73K Oct 24 10:31 gpipGA62xfMjfr8O.png\n",
            "-rw-r--r-- 1 root root 63K Oct 24 10:31 gR2aEiEX8CzCtyBN.png\n",
            "-rw-r--r-- 1 root root 81K Oct 24 10:31 Gv71lr2m5b9rBwPy.png\n",
            "-rw-r--r-- 1 root root 58K Oct 24 10:31 gVd3f9CZNll3QS8l.png\n",
            "-rw-r--r-- 1 root root 70K Oct 24 10:31 h4yYJuwG5dUXEY1B.png\n",
            "-rw-r--r-- 1 root root 78K Oct 24 10:31 H8cGdqeAOdIyIMO5.png\n",
            "-rw-r--r-- 1 root root 65K Oct 24 10:31 H8n0niVYdIGNGE0d.png\n",
            "-rw-r--r-- 1 root root 80K Oct 24 10:31 HarpXSxVfoAJ9cFe.png\n",
            "-rw-r--r-- 1 root root 59K Oct 24 10:31 HbBcQItQ6d5yMDqL.png\n",
            "-rw-r--r-- 1 root root 78K Oct 24 10:31 hCPYo6pBGExadl5o.png\n",
            "-rw-r--r-- 1 root root 83K Oct 24 10:31 hfYfNNtqkFzF9BE4.png\n",
            "-rw-r--r-- 1 root root 70K Oct 24 10:31 hH7jcOkAiHqNDWcy.png\n",
            "-rw-r--r-- 1 root root 68K Oct 24 10:31 hHY3BbYoVFjLEsbd.png\n",
            "-rw-r--r-- 1 root root 71K Oct 24 10:31 HIo7Eax3OPP5MuXl.png\n",
            "-rw-r--r-- 1 root root 79K Oct 24 10:31 HkBUo9kQDJho4uor.png\n",
            "-rw-r--r-- 1 root root 83K Oct 24 10:31 HQSUE6P23pvLctuy.png\n",
            "-rw-r--r-- 1 root root 84K Oct 24 10:31 Ht08RX3DQCSdl9Sy.png\n",
            "-rw-r--r-- 1 root root 76K Oct 24 10:31 HTETrKtTEB31pvsK.png\n",
            "-rw-r--r-- 1 root root 81K Oct 24 10:31 HTSIUeIA1IQrHtHu.png\n",
            "-rw-r--r-- 1 root root 81K Oct 24 10:31 Httje79JB2p6ePf0.png\n",
            "-rw-r--r-- 1 root root 78K Oct 24 10:31 hu3OxByp0O4KCJft.png\n",
            "-rw-r--r-- 1 root root 63K Oct 24 10:31 HU7Q4utMI0vHMxlh.png\n",
            "-rw-r--r-- 1 root root 66K Oct 24 10:31 hUDN2qXDxjoGBWqu.png\n",
            "-rw-r--r-- 1 root root 79K Oct 24 10:31 HuunhhoTMXTrST2Z.png\n",
            "-rw-r--r-- 1 root root 78K Oct 24 10:31 HvQdmFU7Qzd4SSQ4.png\n",
            "-rw-r--r-- 1 root root 67K Oct 24 10:31 hWVwQVI74lc5zgyK.png\n",
            "-rw-r--r-- 1 root root 77K Oct 24 10:31 hxUxn67g42jOHGHi.png\n",
            "-rw-r--r-- 1 root root 66K Oct 24 10:31 HXxUlm3O2djcDgUR.png\n",
            "-rw-r--r-- 1 root root 82K Oct 24 10:31 HYIh5ipF4bN1futQ.png\n",
            "-rw-r--r-- 1 root root 78K Oct 24 10:31 HyLg8tH9blwT6eVy.png\n",
            "-rw-r--r-- 1 root root 62K Oct 24 10:31 i47BmmqwUa4y0jIP.png\n",
            "-rw-r--r-- 1 root root 65K Oct 24 10:31 ib30bLCbBl0mKWko.png\n",
            "-rw-r--r-- 1 root root 72K Oct 24 10:31 iGiF1suI8wXP6A2r.png\n",
            "-rw-r--r-- 1 root root 81K Oct 24 10:31 Ih5Z5Z3xFZ17IcZS.png\n",
            "-rw-r--r-- 1 root root 61K Oct 24 10:31 IkSLcJtq4O6iBmE4.png\n",
            "-rw-r--r-- 1 root root 72K Oct 24 10:31 IKy6sz5i68TYNJH6.png\n",
            "-rw-r--r-- 1 root root 81K Oct 24 10:31 IlrxPx0XNL2QslmW.png\n",
            "-rw-r--r-- 1 root root 81K Oct 24 10:31 IQsx834hZ2POqopO.png\n",
            "-rw-r--r-- 1 root root 69K Oct 24 10:31 ISW7mRK3Wu6ik0eH.png\n",
            "-rw-r--r-- 1 root root 83K Oct 24 10:31 IXh9BTFQQ6AIaBpr.png\n",
            "-rw-r--r-- 1 root root 62K Oct 24 10:31 IxQ1CVKgnpiD0HfY.png\n",
            "-rw-r--r-- 1 root root 81K Oct 24 10:31 j8dvLhkeL92SpOGj.png\n",
            "-rw-r--r-- 1 root root 64K Oct 24 10:31 jAh36hlZLpECSBHp.png\n",
            "-rw-r--r-- 1 root root 79K Oct 24 10:31 JApmimWQx0vFx1qw.png\n",
            "-rw-r--r-- 1 root root 80K Oct 24 10:31 jaxChUvakWAN9eTs.png\n",
            "-rw-r--r-- 1 root root 63K Oct 24 10:31 JbnPCQTbu7AS9jvo.png\n",
            "-rw-r--r-- 1 root root 60K Oct 24 10:31 jCTsslbOLn04znvK.png\n",
            "-rw-r--r-- 1 root root 72K Oct 24 10:31 JDZ86cNk15r0NTi6.png\n",
            "-rw-r--r-- 1 root root 77K Oct 24 10:31 Je4YZuaXlY4KaAfQ.png\n",
            "-rw-r--r-- 1 root root 76K Oct 24 10:31 JFOcfFSm3Ul0Xkha.png\n",
            "-rw-r--r-- 1 root root 72K Oct 24 10:31 JKN8VKp7pfMEQdBZ.png\n",
            "-rw-r--r-- 1 root root 74K Oct 24 10:31 jl6AlteXSalbS3rG.png\n",
            "-rw-r--r-- 1 root root 80K Oct 24 10:31 JlMP0YH6vhxWRMZz.png\n",
            "-rw-r--r-- 1 root root 80K Oct 24 10:31 JOsGCJTsKvKGNHN1.png\n",
            "-rw-r--r-- 1 root root 81K Oct 24 10:31 JQaNQ7LsPy3cY23Q.png\n",
            "-rw-r--r-- 1 root root 77K Oct 24 10:31 jqQlxUsZOssnmdWL.png\n",
            "-rw-r--r-- 1 root root 66K Oct 24 10:31 JRZTPL2YQ6cfIMh9.png\n",
            "-rw-r--r-- 1 root root 80K Oct 24 10:31 JsrOSaR3txTRu3I9.png\n",
            "-rw-r--r-- 1 root root 72K Oct 24 10:31 JsryGUQahbbNkrlP.png\n",
            "-rw-r--r-- 1 root root 65K Oct 24 10:31 JUn3VuVCoOKC5Nv2.png\n",
            "-rw-r--r-- 1 root root 62K Oct 24 10:31 jXhwHToky4rsswCO.png\n",
            "-rw-r--r-- 1 root root 71K Oct 24 10:31 jYSFgcG68qqavVn6.png\n",
            "-rw-r--r-- 1 root root 68K Oct 24 10:31 JZ8KCFK6y0Zd87Xl.png\n",
            "-rw-r--r-- 1 root root 81K Oct 24 10:31 jZe5ePOjxcQEJitP.png\n",
            "-rw-r--r-- 1 root root 64K Oct 24 10:31 k5n1w4gdm1G27rDk.png\n",
            "-rw-r--r-- 1 root root 81K Oct 24 10:31 K6IACWoiTOnGR9Np.png\n",
            "-rw-r--r-- 1 root root 77K Oct 24 10:31 K8WJMHr1iCttaMbB.png\n",
            "-rw-r--r-- 1 root root 80K Oct 24 10:31 k9d5xaurp8JC9DXp.png\n",
            "-rw-r--r-- 1 root root 82K Oct 24 10:31 KAoLE5XBuwjmtKj2.png\n",
            "-rw-r--r-- 1 root root 83K Oct 24 10:31 KAyKztBfGIWm4qN7.png\n",
            "-rw-r--r-- 1 root root 79K Oct 24 10:31 kdPdOkLZZW1UnOPw.png\n",
            "-rw-r--r-- 1 root root 83K Oct 24 10:31 keyl4nDZLxLORnr3.png\n",
            "-rw-r--r-- 1 root root 64K Oct 24 10:31 KGiyDw5Ryx3WjjSZ.png\n",
            "-rw-r--r-- 1 root root 83K Oct 24 10:31 KHfp6LJDEhqbcomR.png\n",
            "-rw-r--r-- 1 root root 66K Oct 24 10:31 khFWD3MPEKPitVyA.png\n",
            "-rw-r--r-- 1 root root 73K Oct 24 10:31 KJ77yLPN943SrPZW.png\n",
            "-rw-r--r-- 1 root root 78K Oct 24 10:31 Klcu8qBjVs676hic.png\n",
            "-rw-r--r-- 1 root root 82K Oct 24 10:31 kmBByXdkwf5Vro8P.png\n",
            "-rw-r--r-- 1 root root 59K Oct 24 10:31 knWd03lNhoAUPdKX.png\n",
            "-rw-r--r-- 1 root root 58K Oct 24 10:31 KOlOsNsrUdQonYpp.png\n",
            "-rw-r--r-- 1 root root 76K Oct 24 10:31 KPJ371erJ0RUKNAX.png\n",
            "-rw-r--r-- 1 root root 82K Oct 24 10:31 KqCGmJ8WCrqE5Uvg.png\n",
            "-rw-r--r-- 1 root root 79K Oct 24 10:31 KSueOZE0QWbJClvK.png\n",
            "-rw-r--r-- 1 root root 70K Oct 24 10:31 kVKp9kJji4urjoMs.png\n",
            "-rw-r--r-- 1 root root 80K Oct 24 10:31 kz9TBAHLFXGnHCiF.png\n",
            "-rw-r--r-- 1 root root 80K Oct 24 10:31 L2oIlMxDTToJYUvV.png\n",
            "-rw-r--r-- 1 root root 77K Oct 24 10:31 L2S17RtFi8XXp6b8.png\n",
            "-rw-r--r-- 1 root root 67K Oct 24 10:31 l7pEq6tQKyUNL3GN.png\n",
            "-rw-r--r-- 1 root root 81K Oct 24 10:31 LAhqdrhPNg3ZLxpr.png\n",
            "-rw-r--r-- 1 root root 64K Oct 24 10:31 lb8kepfzcnutbQI1.png\n",
            "-rw-r--r-- 1 root root 75K Oct 24 10:31 ldG6HLXeY0KilKyr.png\n",
            "-rw-r--r-- 1 root root 79K Oct 24 10:31 ldGrLw1rlUq1nHuw.png\n",
            "-rw-r--r-- 1 root root 80K Oct 24 10:31 LEA78quc0fi2hq9W.png\n",
            "-rw-r--r-- 1 root root 82K Oct 24 10:31 lGIPlKIVgwrDC17U.png\n",
            "-rw-r--r-- 1 root root 71K Oct 24 10:31 LhgH8QOKfA5xu287.png\n",
            "-rw-r--r-- 1 root root 90K Oct 24 10:31 lhr6oNI2jMsi0Z6A.png\n",
            "-rw-r--r-- 1 root root 77K Oct 24 10:31 LI47bUY9rR60z73q.png\n",
            "-rw-r--r-- 1 root root 77K Oct 24 10:31 lj8o8xy1TAOMQDaH.png\n",
            "-rw-r--r-- 1 root root 73K Oct 24 10:31 LkNkNVjTRm5Gr9NQ.png\n",
            "-rw-r--r-- 1 root root 71K Oct 24 10:31 Lmx5I567tGyQ9HYi.png\n",
            "-rw-r--r-- 1 root root 66K Oct 24 10:31 LpASHQ03atiBeyRw.png\n",
            "-rw-r--r-- 1 root root 82K Oct 24 10:31 Lq77eAG8OPaizwEd.png\n",
            "-rw-r--r-- 1 root root 80K Oct 24 10:31 lqo55attrFxuKqlu.png\n",
            "-rw-r--r-- 1 root root 83K Oct 24 10:31 LqxEdPczGbYd9Zlu.png\n",
            "-rw-r--r-- 1 root root 80K Oct 24 10:31 LrVULgPLsLsfdZ2z.png\n",
            "-rw-r--r-- 1 root root 78K Oct 24 10:31 Lui3J5YhKgMvk673.png\n",
            "-rw-r--r-- 1 root root 78K Oct 24 10:31 Lwd11NDu17odCiv7.png\n",
            "-rw-r--r-- 1 root root 82K Oct 24 10:31 lxWEYgTaWJSoYSiD.png\n",
            "-rw-r--r-- 1 root root 62K Oct 24 10:31 LYirpnRmbCGN6T7O.png\n",
            "-rw-r--r-- 1 root root 79K Oct 24 10:31 lZkRVz5sifz7CD66.png\n",
            "-rw-r--r-- 1 root root 83K Oct 24 10:31 m4BUXxtLrhnsSUJ2.png\n",
            "-rw-r--r-- 1 root root 83K Oct 24 10:31 M4h0o8DAzyOpmgSM.png\n",
            "-rw-r--r-- 1 root root 77K Oct 24 10:31 MBCdeYSw1CGsIlHf.png\n",
            "-rw-r--r-- 1 root root 88K Oct 24 10:31 Miw8prUoiVMVG2D4.png\n",
            "-rw-r--r-- 1 root root 72K Oct 24 10:31 MJAUydLSEPqZHwPz.png\n",
            "-rw-r--r-- 1 root root 58K Oct 24 10:31 mK7Kqflg12vHFBEK.png\n",
            "-rw-r--r-- 1 root root 70K Oct 24 10:31 MKe2ciaSOmdDH1JK.png\n",
            "-rw-r--r-- 1 root root 70K Oct 24 10:31 MKnNPdRtHfgr6ZbI.png\n",
            "-rw-r--r-- 1 root root 82K Oct 24 10:31 mkUctpckc3vjOwKa.png\n",
            "-rw-r--r-- 1 root root 81K Oct 24 10:31 MLrUGD1graoSw2c5.png\n",
            "-rw-r--r-- 1 root root 83K Oct 24 10:31 MLURv7NBoSPK4f1h.png\n",
            "-rw-r--r-- 1 root root 86K Oct 24 10:31 MmzlgKI366LYX3fe.png\n",
            "-rw-r--r-- 1 root root 79K Oct 24 10:31 MnvVVMoqDmzrm5NJ.png\n",
            "-rw-r--r-- 1 root root 78K Oct 24 10:31 Mq8Ym2axOJVIthiP.png\n",
            "-rw-r--r-- 1 root root 82K Oct 24 10:31 mugG8B1m5Ra2aRgZ.png\n",
            "-rw-r--r-- 1 root root 77K Oct 24 10:31 mUqkjFi6NBsHR7tf.png\n",
            "-rw-r--r-- 1 root root 78K Oct 24 10:31 Mv6oOH192gse3oZA.png\n",
            "-rw-r--r-- 1 root root 63K Oct 24 10:31 mV9vc1ITH1PrrbF8.png\n",
            "-rw-r--r-- 1 root root 88K Oct 24 10:31 mWtDBJ2pprz96x22.png\n",
            "-rw-r--r-- 1 root root 79K Oct 24 10:31 mZW0RUegJl9SM8ck.png\n",
            "-rw-r--r-- 1 root root 78K Oct 24 10:31 n10pI9JDPyeM0P73.png\n",
            "-rw-r--r-- 1 root root 80K Oct 24 10:31 n1H2YStjFsCwmlYz.png\n",
            "-rw-r--r-- 1 root root 78K Oct 24 10:31 N3RjXoHuCkTs2Prd.png\n",
            "-rw-r--r-- 1 root root 80K Oct 24 10:31 N4D5tleMLbP1Au5D.png\n",
            "-rw-r--r-- 1 root root 72K Oct 24 10:31 N5JmBjeptZ3hK3EK.png\n",
            "-rw-r--r-- 1 root root 65K Oct 24 10:31 n5NXfZTRonR4iOr0.png\n",
            "-rw-r--r-- 1 root root 64K Oct 24 10:31 n8IzyztMwnfa5rjf.png\n",
            "-rw-r--r-- 1 root root 77K Oct 24 10:31 n9SDT7R9BSLRNCe1.png\n",
            "-rw-r--r-- 1 root root 86K Oct 24 10:31 nb6CUTNhXBAmjFp9.png\n",
            "-rw-r--r-- 1 root root 76K Oct 24 10:31 neo7ALjpzKdzVCj1.png\n",
            "-rw-r--r-- 1 root root 80K Oct 24 10:31 ngFDxBhhLQzs7JAH.png\n",
            "-rw-r--r-- 1 root root 73K Oct 24 10:31 nGxiCAryWhadfu7W.png\n",
            "-rw-r--r-- 1 root root 81K Oct 24 10:31 NKNFgMn2Ik3Y9XuX.png\n",
            "-rw-r--r-- 1 root root 72K Oct 24 10:31 NLwrHPTaiNSMjHLX.png\n",
            "-rw-r--r-- 1 root root 71K Oct 24 10:31 Nm8PHXHrGlZy0d6Q.png\n",
            "-rw-r--r-- 1 root root 84K Oct 24 10:31 nmkNauqVsM2JUvok.png\n",
            "-rw-r--r-- 1 root root 81K Oct 24 10:31 nnf5jELXQuneoejn.png\n",
            "-rw-r--r-- 1 root root 76K Oct 24 10:31 NnWvTxntBJ5mFY73.png\n",
            "-rw-r--r-- 1 root root 70K Oct 24 10:31 nOTm1e00MAJxvpwp.png\n",
            "-rw-r--r-- 1 root root 78K Oct 24 10:31 nPEUpKKphLYH3Bjy.png\n",
            "-rw-r--r-- 1 root root 80K Oct 24 10:31 NS5CJKNsJa9jr5j4.png\n",
            "-rw-r--r-- 1 root root 77K Oct 24 10:31 nsbCG572TtIVkjKn.png\n",
            "-rw-r--r-- 1 root root 76K Oct 24 10:31 nSfRj8Sp6S0GsMVm.png\n",
            "-rw-r--r-- 1 root root 80K Oct 24 10:31 ntumvg6vWpT6qIal.png\n",
            "-rw-r--r-- 1 root root 75K Oct 24 10:31 nvCwoV9k3ym5N0JA.png\n",
            "-rw-r--r-- 1 root root 71K Oct 24 10:31 NwbFl4nQqE5pm5PZ.png\n",
            "-rw-r--r-- 1 root root 80K Oct 24 10:31 nXOxF15xZFtfflkL.png\n",
            "-rw-r--r-- 1 root root 79K Oct 24 10:31 o0CfvFooVIcHCGzO.png\n",
            "-rw-r--r-- 1 root root 76K Oct 24 10:31 O0fq1v7s6qxN8o9L.png\n",
            "-rw-r--r-- 1 root root 76K Oct 24 10:31 O4H6QPX8bdwNiIie.png\n",
            "-rw-r--r-- 1 root root 69K Oct 24 10:31 oAvUHooYsSpFid0p.png\n",
            "-rw-r--r-- 1 root root 79K Oct 24 10:31 oBKuveyTYAhqtKSw.png\n",
            "-rw-r--r-- 1 root root 79K Oct 24 10:31 ObnNNP8S6dH3IxIS.png\n",
            "-rw-r--r-- 1 root root 81K Oct 24 10:31 ocaU2HmemX7rmjm0.png\n",
            "-rw-r--r-- 1 root root 72K Oct 24 10:31 OdfDTwgPVdW9XbE7.png\n",
            "-rw-r--r-- 1 root root 74K Oct 24 10:31 OEFttKrmyc4bGb54.png\n",
            "-rw-r--r-- 1 root root 71K Oct 24 10:31 OhkFvTOiBqphyG0I.png\n",
            "-rw-r--r-- 1 root root 78K Oct 24 10:31 oi2e7ny5y00NBLOx.png\n",
            "-rw-r--r-- 1 root root 71K Oct 24 10:31 oiJhtTsTDkiAcHeR.png\n",
            "-rw-r--r-- 1 root root 82K Oct 24 10:31 ojF0xyUvkvV3iujz.png\n",
            "-rw-r--r-- 1 root root 80K Oct 24 10:31 oJi50DvlvFg4wTio.png\n",
            "-rw-r--r-- 1 root root 76K Oct 24 10:31 OJpDyt2u6zzfoVP0.png\n",
            "-rw-r--r-- 1 root root 68K Oct 24 10:31 oKx22gb6XjI0aXHR.png\n",
            "-rw-r--r-- 1 root root 77K Oct 24 10:31 oLcpS2BYyqZLBj9P.png\n",
            "-rw-r--r-- 1 root root 81K Oct 24 10:31 Om6b4BvZS49QNNFV.png\n",
            "-rw-r--r-- 1 root root 81K Oct 24 10:31 OMq2VJyb0KwtdwDc.png\n",
            "-rw-r--r-- 1 root root 81K Oct 24 10:31 oqJ2wJHOLMGGxdjF.png\n",
            "-rw-r--r-- 1 root root 80K Oct 24 10:31 orYuZ7NeWdENNt7D.png\n",
            "-rw-r--r-- 1 root root 75K Oct 24 10:31 OSEIPDjPzHw3gKjc.png\n",
            "-rw-r--r-- 1 root root 84K Oct 24 10:31 oTQjuZyEM7y9MlNJ.png\n",
            "-rw-r--r-- 1 root root 70K Oct 24 10:31 oWI7JL85eXDhRFcV.png\n",
            "-rw-r--r-- 1 root root 65K Oct 24 10:31 owYHB2dx7ExdKxsR.png\n",
            "-rw-r--r-- 1 root root 78K Oct 24 10:31 OXA4uaaO7YUkxjSJ.png\n",
            "-rw-r--r-- 1 root root 80K Oct 24 10:31 P0BIztnCzZ3StLD1.png\n",
            "-rw-r--r-- 1 root root 81K Oct 24 10:31 P1STllnKDD05zo29.png\n",
            "-rw-r--r-- 1 root root 75K Oct 24 10:31 p2UN3r1vWk57uVqX.png\n",
            "-rw-r--r-- 1 root root 60K Oct 24 10:31 p2Y8kJZKuaHvM4dk.png\n",
            "-rw-r--r-- 1 root root 78K Oct 24 10:31 p81Lb4bD6fEvkSQ0.png\n",
            "-rw-r--r-- 1 root root 81K Oct 24 10:31 PaZSkEO4jbBp3Hz7.png\n",
            "-rw-r--r-- 1 root root 58K Oct 24 10:31 PbqPTUSB4HxBVDZZ.png\n",
            "-rw-r--r-- 1 root root 59K Oct 24 10:31 PDV8vSlSFdej3jNx.png\n",
            "-rw-r--r-- 1 root root 62K Oct 24 10:31 pfyaiU10n2EvAwgw.png\n",
            "-rw-r--r-- 1 root root 75K Oct 24 10:31 pHx4pvFv4zXPDI1w.png\n",
            "-rw-r--r-- 1 root root 78K Oct 24 10:31 PLvidx6rZDuRENbv.png\n",
            "-rw-r--r-- 1 root root 77K Oct 24 10:31 pMQfFsmXAu2xZuUv.png\n",
            "-rw-r--r-- 1 root root 80K Oct 24 10:31 pPId4ocKjlcEVsXt.png\n",
            "-rw-r--r-- 1 root root 81K Oct 24 10:31 prCirglnpqZ4KRmM.png\n",
            "-rw-r--r-- 1 root root 81K Oct 24 10:31 pRZml1c5DSIzYVxA.png\n",
            "-rw-r--r-- 1 root root 79K Oct 24 10:31 pt2EHjG6vxV6Hjmf.png\n",
            "-rw-r--r-- 1 root root 75K Oct 24 10:31 PTjpGk2rKf6mhx9z.png\n",
            "-rw-r--r-- 1 root root 80K Oct 24 10:31 pUCjvjdpH5HSaWxl.png\n",
            "-rw-r--r-- 1 root root 81K Oct 24 10:31 pVCqrp8S6Ze3DAI8.png\n",
            "-rw-r--r-- 1 root root 79K Oct 24 10:31 pW8TQWh9SoWh0HLE.png\n",
            "-rw-r--r-- 1 root root 79K Oct 24 10:31 PwkqvoT0noMITNaF.png\n",
            "-rw-r--r-- 1 root root 66K Oct 24 10:31 pwM1GeKjG7KE4i75.png\n",
            "-rw-r--r-- 1 root root 75K Oct 24 10:31 pYvpGm431tLNheln.png\n",
            "-rw-r--r-- 1 root root 82K Oct 24 10:31 PZrfX01MvfB3oeyB.png\n",
            "-rw-r--r-- 1 root root 81K Oct 24 10:31 q35FqG8h9VCDbQ1J.png\n",
            "-rw-r--r-- 1 root root 82K Oct 24 10:31 Q8idpb4gCSAWs9YH.png\n",
            "-rw-r--r-- 1 root root 78K Oct 24 10:31 QASICiZe79sFTXBz.png\n",
            "-rw-r--r-- 1 root root 79K Oct 24 10:31 Qbn4RJqessetWPHR.png\n",
            "-rw-r--r-- 1 root root 74K Oct 24 10:31 qbWKhamyFLSmXCgZ.png\n",
            "-rw-r--r-- 1 root root 82K Oct 24 10:31 qC5sV6TzOBzyzW0p.png\n",
            "-rw-r--r-- 1 root root 57K Oct 24 10:31 QCHltvmva5vmGrPo.png\n",
            "-rw-r--r-- 1 root root 82K Oct 24 10:31 QCqvYDzuP0z3omox.png\n",
            "-rw-r--r-- 1 root root 81K Oct 24 10:31 qGf97ZWPmGYzlTpo.png\n",
            "-rw-r--r-- 1 root root 83K Oct 24 10:31 qhhaVBNDIWDdNR2Y.png\n",
            "-rw-r--r-- 1 root root 77K Oct 24 10:31 qjNwQMtSzoZKXOGe.png\n",
            "-rw-r--r-- 1 root root 80K Oct 24 10:31 QKFJL22hutlivVGa.png\n",
            "-rw-r--r-- 1 root root 58K Oct 24 10:31 QLXEsveWG3vywKfy.png\n",
            "-rw-r--r-- 1 root root 78K Oct 24 10:31 qM0f6IJPDfLRpo1d.png\n",
            "-rw-r--r-- 1 root root 70K Oct 24 10:31 QnjBVl6cFnyd2hVF.png\n",
            "-rw-r--r-- 1 root root 63K Oct 24 10:31 qQim08vMQ6OUCtbR.png\n",
            "-rw-r--r-- 1 root root 79K Oct 24 10:31 QQksMNb2czxqfTF8.png\n",
            "-rw-r--r-- 1 root root 79K Oct 24 10:31 QqPSoi6Vj2Vbua3V.png\n",
            "-rw-r--r-- 1 root root 79K Oct 24 10:31 qRNjm8INtwezm9Yd.png\n",
            "-rw-r--r-- 1 root root 83K Oct 24 10:31 qs7Zi0icFErU0fsZ.png\n",
            "-rw-r--r-- 1 root root 82K Oct 24 10:31 qsRQNgddFhV2Mlnn.png\n",
            "-rw-r--r-- 1 root root 82K Oct 24 10:31 qtfGt3JjA0Orrg9v.png\n",
            "-rw-r--r-- 1 root root 78K Oct 24 10:31 qtYZl1WPMxaH5KQV.png\n",
            "-rw-r--r-- 1 root root 77K Oct 24 10:31 QUcJ1QclQwOY50vY.png\n",
            "-rw-r--r-- 1 root root 63K Oct 24 10:31 QVFB67Eza3BCNeRY.png\n",
            "-rw-r--r-- 1 root root 76K Oct 24 10:31 QVIiXr87PkeldzZM.png\n",
            "-rw-r--r-- 1 root root 65K Oct 24 10:31 qVqPFRhMJXPFh8Yb.png\n",
            "-rw-r--r-- 1 root root 75K Oct 24 10:31 qWHWCHG7exZiCfdq.png\n",
            "-rw-r--r-- 1 root root 73K Oct 24 10:31 QWT9FOhLABPyKIUA.png\n",
            "-rw-r--r-- 1 root root 72K Oct 24 10:31 Qx31hf6YWyFs6Mu7.png\n",
            "-rw-r--r-- 1 root root 76K Oct 24 10:31 Qxx5l8WCNBjMb5xI.png\n",
            "-rw-r--r-- 1 root root 83K Oct 24 10:31 QZtii0ogsjl6hxun.png\n",
            "-rw-r--r-- 1 root root 58K Oct 24 10:31 qZX4Zcms0Ffpe8v7.png\n",
            "-rw-r--r-- 1 root root 70K Oct 24 10:31 R2Hq3bL46kah8D9n.png\n",
            "-rw-r--r-- 1 root root 80K Oct 24 10:31 R7y8PxDKzaAd0uUQ.png\n",
            "-rw-r--r-- 1 root root 82K Oct 24 10:31 r98ovEGxFpCnVnyy.png\n",
            "-rw-r--r-- 1 root root 68K Oct 24 10:31 r9sXHEyVJVCtshSA.png\n",
            "-rw-r--r-- 1 root root 82K Oct 24 10:31 raSxG3GjqMrYHvgW.png\n",
            "-rw-r--r-- 1 root root 83K Oct 24 10:31 rDfjA9TE0tYqzT21.png\n",
            "-rw-r--r-- 1 root root 70K Oct 24 10:31 rffdDFsMVDDkn32c.png\n",
            "-rw-r--r-- 1 root root 75K Oct 24 10:31 RFXW2X1DlH7xboth.png\n",
            "-rw-r--r-- 1 root root 72K Oct 24 10:31 RJrQJX31bej6flMr.png\n",
            "-rw-r--r-- 1 root root 74K Oct 24 10:31 RlpqfQnTgM6AxUNs.png\n",
            "-rw-r--r-- 1 root root 82K Oct 24 10:31 RmJmYq6VCNrrvi2l.png\n",
            "-rw-r--r-- 1 root root 64K Oct 24 10:31 RmTijOM3U31zKnrY.png\n",
            "-rw-r--r-- 1 root root 69K Oct 24 10:31 RQ78Zpf7uYHXCYcb.png\n",
            "-rw-r--r-- 1 root root 80K Oct 24 10:31 RqdXcCyqmXMxSDxn.png\n",
            "-rw-r--r-- 1 root root 72K Oct 24 10:31 rrSpAVrlixKrTC1T.png\n",
            "-rw-r--r-- 1 root root 84K Oct 24 10:31 rSRKkten7Ffx6bEj.png\n",
            "-rw-r--r-- 1 root root 78K Oct 24 10:31 RtFKKjIDZ0zA0khp.png\n",
            "-rw-r--r-- 1 root root 72K Oct 24 10:31 RW8BP64V5NC04QWf.png\n",
            "-rw-r--r-- 1 root root 79K Oct 24 10:31 rX4dcSySbz56p4dk.png\n",
            "-rw-r--r-- 1 root root 80K Oct 24 10:31 Rxmuq5Y6dw22QESt.png\n",
            "-rw-r--r-- 1 root root 80K Oct 24 10:31 s4dtRIGK3emNyjrO.png\n",
            "-rw-r--r-- 1 root root 65K Oct 24 10:31 s73bLQf6K0lw4RDJ.png\n",
            "-rw-r--r-- 1 root root 80K Oct 24 10:31 sAEYBhcNfJgAZTD6.png\n",
            "-rw-r--r-- 1 root root 74K Oct 24 10:31 sak9CBkECbg1PSLz.png\n",
            "-rw-r--r-- 1 root root 75K Oct 24 10:31 SboHPaPEPBqkkTUX.png\n",
            "-rw-r--r-- 1 root root 68K Oct 24 10:31 sDAWCwVlT2NFpEAf.png\n",
            "-rw-r--r-- 1 root root 80K Oct 24 10:31 SDQQfzHl47yNqA6K.png\n",
            "-rw-r--r-- 1 root root 83K Oct 24 10:31 sisDkUJdIN7AkgTV.png\n",
            "-rw-r--r-- 1 root root 81K Oct 24 10:31 SjE9MULuPPnbplHT.png\n",
            "-rw-r--r-- 1 root root 81K Oct 24 10:31 SjtYrw48VCBOLOQh.png\n",
            "-rw-r--r-- 1 root root 82K Oct 24 10:31 SoqluLecSTBcuyoS.png\n",
            "-rw-r--r-- 1 root root 76K Oct 24 10:31 SPx9aUguwNqxqPVS.png\n",
            "-rw-r--r-- 1 root root 65K Oct 24 10:31 SrSUeH255dybz2zi.png\n",
            "-rw-r--r-- 1 root root 80K Oct 24 10:31 SsvKZDW23vRQMUtA.png\n",
            "-rw-r--r-- 1 root root 84K Oct 24 10:31 StyclBeCFwYGuttl.png\n",
            "-rw-r--r-- 1 root root 65K Oct 24 10:31 Su03KsBNHrCVUXli.png\n",
            "-rw-r--r-- 1 root root 80K Oct 24 10:31 svY0FVnjij1nSJDK.png\n",
            "-rw-r--r-- 1 root root 78K Oct 24 10:31 sZyZICXHv0ArIZFw.png\n",
            "-rw-r--r-- 1 root root 75K Oct 24 10:31 t2SdNfWDiXGLJPBA.png\n",
            "-rw-r--r-- 1 root root 78K Oct 24 10:31 t3gTGwl94iLuZL1k.png\n",
            "-rw-r--r-- 1 root root 72K Oct 24 10:31 TcybcTuKdMPA4xpT.png\n",
            "-rw-r--r-- 1 root root 81K Oct 24 10:31 tfMCcOsRUhEJZF6I.png\n",
            "-rw-r--r-- 1 root root 83K Oct 24 10:31 tFuz8mF78pYT6hKS.png\n",
            "-rw-r--r-- 1 root root 72K Oct 24 10:31 Tgy8eMKf7vZc4Eib.png\n",
            "-rw-r--r-- 1 root root 76K Oct 24 10:31 tHitLUmmXOyChXOH.png\n",
            "-rw-r--r-- 1 root root 89K Oct 24 10:31 tiS1ECooPwR5IvFK.png\n",
            "-rw-r--r-- 1 root root 76K Oct 24 10:31 TlnoQ46NyW8oZV07.png\n",
            "-rw-r--r-- 1 root root 64K Oct 24 10:31 tlZ31lJJt1OhSr0a.png\n",
            "-rw-r--r-- 1 root root 80K Oct 24 10:31 TmPdVzKg9yHUefja.png\n",
            "-rw-r--r-- 1 root root 74K Oct 24 10:31 TnoLyTMw8xPdz0ck.png\n",
            "-rw-r--r-- 1 root root 70K Oct 24 10:31 to1CYeerlgzyJIeO.png\n",
            "-rw-r--r-- 1 root root 65K Oct 24 10:31 tsfjaR5pzLN4vfRW.png\n",
            "-rw-r--r-- 1 root root 74K Oct 24 10:31 TstngIvuLJt0GIze.png\n",
            "-rw-r--r-- 1 root root 68K Oct 24 10:31 tUAXecVWvaYBm4s4.png\n",
            "-rw-r--r-- 1 root root 74K Oct 24 10:31 tV2VtZHsIL8Gj4TC.png\n",
            "-rw-r--r-- 1 root root 65K Oct 24 10:31 tW1oIjn0hlGLToAY.png\n",
            "-rw-r--r-- 1 root root 66K Oct 24 10:31 TYjJigXjEyiVntzx.png\n",
            "-rw-r--r-- 1 root root 59K Oct 24 10:31 TzhAea8QXqJwqpUY.png\n",
            "-rw-r--r-- 1 root root 82K Oct 24 10:31 U2InMVDH10R24eOb.png\n",
            "-rw-r--r-- 1 root root 80K Oct 24 10:31 U3XlUGS4C4YGpjGP.png\n",
            "-rw-r--r-- 1 root root 80K Oct 24 10:31 u5672IrPHHkppdEK.png\n",
            "-rw-r--r-- 1 root root 63K Oct 24 10:31 U5WsclDnMxnOTgGT.png\n",
            "-rw-r--r-- 1 root root 87K Oct 24 10:31 ubb6xwgONJP3xBbv.png\n",
            "-rw-r--r-- 1 root root 65K Oct 24 10:31 UCZlOkcylNYU2ylP.png\n",
            "-rw-r--r-- 1 root root 78K Oct 24 10:31 UE6Ao0ZqJbQ1R1R5.png\n",
            "-rw-r--r-- 1 root root 80K Oct 24 10:31 ueuECCtQxOjHF1ij.png\n",
            "-rw-r--r-- 1 root root 65K Oct 24 10:31 UGHu0zv6pWOmgBWn.png\n",
            "-rw-r--r-- 1 root root 80K Oct 24 10:31 uHBQbKd9VTYWdctJ.png\n",
            "-rw-r--r-- 1 root root 58K Oct 24 10:31 UHyVkisiFMmasl7b.png\n",
            "-rw-r--r-- 1 root root 78K Oct 24 10:31 UJdZdj6nyFRHVFEg.png\n",
            "-rw-r--r-- 1 root root 73K Oct 24 10:31 UJXhVbWUgUnzedxP.png\n",
            "-rw-r--r-- 1 root root 80K Oct 24 10:31 ukOGooYiFOfJHNrx.png\n",
            "-rw-r--r-- 1 root root 80K Oct 24 10:31 ul2wGK0NgJXs8mHv.png\n",
            "-rw-r--r-- 1 root root 71K Oct 24 10:31 UmipL2kv9TdDdryZ.png\n",
            "-rw-r--r-- 1 root root 80K Oct 24 10:31 UN3iCDyiEIteIMdx.png\n",
            "-rw-r--r-- 1 root root 82K Oct 24 10:31 Uok6jb9ObZxSWCDu.png\n",
            "-rw-r--r-- 1 root root 62K Oct 24 10:31 UOW45qbyvti8nBHV.png\n",
            "-rw-r--r-- 1 root root 80K Oct 24 10:31 uoYuyEHvVLrOOmqW.png\n",
            "-rw-r--r-- 1 root root 78K Oct 24 10:31 UQIJiOYi6zCaIeue.png\n",
            "-rw-r--r-- 1 root root 82K Oct 24 10:31 UqMn3TJPZRf0px46.png\n",
            "-rw-r--r-- 1 root root 73K Oct 24 10:31 URj0hmH1Y9lNObL9.png\n",
            "-rw-r--r-- 1 root root 65K Oct 24 10:31 UuF8mRQ3FDM6fOmp.png\n",
            "-rw-r--r-- 1 root root 81K Oct 24 10:31 UvFHqrnEwsrs6MgC.png\n",
            "-rw-r--r-- 1 root root 80K Oct 24 10:31 UVuauoFm9Pk5JJre.png\n",
            "-rw-r--r-- 1 root root 77K Oct 24 10:31 UWq276y40jnVYaPC.png\n",
            "-rw-r--r-- 1 root root 62K Oct 24 10:31 v1b7FBFD4ZbLJnhB.png\n",
            "-rw-r--r-- 1 root root 64K Oct 24 10:31 V3Z0tEoM7Cq761eZ.png\n",
            "-rw-r--r-- 1 root root 58K Oct 24 10:31 v4pz2TAsHhtNtTAH.png\n",
            "-rw-r--r-- 1 root root 70K Oct 24 10:31 v6wOWeRyh3Sv5BXo.png\n",
            "-rw-r--r-- 1 root root 76K Oct 24 10:31 v6Ypsa9vPurMnl20.png\n",
            "-rw-r--r-- 1 root root 78K Oct 24 10:31 V7gDBwuUctk8myTw.png\n",
            "-rw-r--r-- 1 root root 79K Oct 24 10:31 V9v5VHsYgQOVnzo2.png\n",
            "-rw-r--r-- 1 root root 81K Oct 24 10:31 VD4twqBeFDIHSovy.png\n",
            "-rw-r--r-- 1 root root 82K Oct 24 10:31 veIFAtZUg4WYjn3N.png\n",
            "-rw-r--r-- 1 root root 63K Oct 24 10:31 vFCd43peE8nozYko.png\n",
            "-rw-r--r-- 1 root root 80K Oct 24 10:31 VfIYGbOFu36N6MDw.png\n",
            "-rw-r--r-- 1 root root 79K Oct 24 10:31 vfKiFjWIK9JKHxLn.png\n",
            "-rw-r--r-- 1 root root 71K Oct 24 10:31 VFOCgVBUlL5Gp4Hh.png\n",
            "-rw-r--r-- 1 root root 84K Oct 24 10:31 vHbB53ZFtZoNcvAM.png\n",
            "-rw-r--r-- 1 root root 79K Oct 24 10:31 Vly5xEFupx36kCcd.png\n",
            "-rw-r--r-- 1 root root 84K Oct 24 10:31 vPvoQzBR7Paf5Jml.png\n",
            "-rw-r--r-- 1 root root 71K Oct 24 10:31 VrhvQlf5Yz5mAt7Y.png\n",
            "-rw-r--r-- 1 root root 70K Oct 24 10:31 VstDOeRm7czrAOO9.png\n",
            "-rw-r--r-- 1 root root 82K Oct 24 10:31 vUtM1pR6f5ZdEn5a.png\n",
            "-rw-r--r-- 1 root root 84K Oct 24 10:31 VUx1G75w9CbeAJUx.png\n",
            "-rw-r--r-- 1 root root 80K Oct 24 10:31 vvM7nA8hZJD5b9CL.png\n",
            "-rw-r--r-- 1 root root 58K Oct 24 10:31 w3fJMYnDDxw5q00K.png\n",
            "-rw-r--r-- 1 root root 76K Oct 24 10:31 W4QtOYoG8ThbcmsY.png\n",
            "-rw-r--r-- 1 root root 59K Oct 24 10:31 W79peyAyfQqNP1vF.png\n",
            "-rw-r--r-- 1 root root 82K Oct 24 10:31 wBUGgxpeb0gggcTx.png\n",
            "-rw-r--r-- 1 root root 79K Oct 24 10:31 wBuXrsjeqMn4ZXdn.png\n",
            "-rw-r--r-- 1 root root 80K Oct 24 10:31 Wcg4nsnlWrhxgyJg.png\n",
            "-rw-r--r-- 1 root root 65K Oct 24 10:31 wdUfwC8IoQbVtqzR.png\n",
            "-rw-r--r-- 1 root root 63K Oct 24 10:31 WejRez1oUWm5lhuw.png\n",
            "-rw-r--r-- 1 root root 59K Oct 24 10:31 wfpI2zfWOeQbwd1f.png\n",
            "-rw-r--r-- 1 root root 62K Oct 24 10:31 wKiW95hiPu8zQhwV.png\n",
            "-rw-r--r-- 1 root root 70K Oct 24 10:31 WOMFIvaWB3TEY6Gl.png\n",
            "-rw-r--r-- 1 root root 82K Oct 24 10:31 wQQCLOgW5qXxkwli.png\n",
            "-rw-r--r-- 1 root root 80K Oct 24 10:31 WUJ02oAbtzoPF4oo.png\n",
            "-rw-r--r-- 1 root root 81K Oct 24 10:31 WVfwcOw6nXcg4xER.png\n",
            "-rw-r--r-- 1 root root 82K Oct 24 10:31 wYsHIJDvNLDvn4m7.png\n",
            "-rw-r--r-- 1 root root 79K Oct 24 10:31 wytuIz48uLeDoGqz.png\n",
            "-rw-r--r-- 1 root root 64K Oct 24 10:31 X3iDu3E3UCW1w1Cd.png\n",
            "-rw-r--r-- 1 root root 70K Oct 24 10:31 x3z3E6Z2qsmW8TaH.png\n",
            "-rw-r--r-- 1 root root 79K Oct 24 10:31 X5YjuJk3mrupKDrG.png\n",
            "-rw-r--r-- 1 root root 64K Oct 24 10:31 x8fNY0V8O2CJ9vaY.png\n",
            "-rw-r--r-- 1 root root 77K Oct 24 10:31 XCoWpNiWscJm476F.png\n",
            "-rw-r--r-- 1 root root 70K Oct 24 10:31 XF9I4tnxCvI7XzIG.png\n",
            "-rw-r--r-- 1 root root 73K Oct 24 10:31 xha8stYdUnt02zKI.png\n",
            "-rw-r--r-- 1 root root 59K Oct 24 10:31 xhKyuxHPC3RnoLD0.png\n",
            "-rw-r--r-- 1 root root 79K Oct 24 10:31 xioDLxSWnSZ5sDbQ.png\n",
            "-rw-r--r-- 1 root root 61K Oct 24 10:31 xJAZ3PewpLYs4ogR.png\n",
            "-rw-r--r-- 1 root root 85K Oct 24 10:31 XJlnAmd0Rb4GNRxm.png\n",
            "-rw-r--r-- 1 root root 85K Oct 24 10:31 xJNBzdx479xjphEV.png\n",
            "-rw-r--r-- 1 root root 75K Oct 24 10:31 xnLyw2TBZF8e2vcr.png\n",
            "-rw-r--r-- 1 root root 84K Oct 24 10:31 XNUalPNmCkHhYk1i.png\n",
            "-rw-r--r-- 1 root root 81K Oct 24 10:31 XnvU9UjrhVwfnSgj.png\n",
            "-rw-r--r-- 1 root root 70K Oct 24 10:31 XOWPFbuwpaJaEv9o.png\n",
            "-rw-r--r-- 1 root root 76K Oct 24 10:31 XPvzu0bXUw8THjbU.png\n",
            "-rw-r--r-- 1 root root 81K Oct 24 10:31 XQihGnpPBb3DucOm.png\n",
            "-rw-r--r-- 1 root root 72K Oct 24 10:31 Xr1e0JehAkRxNzTj.png\n",
            "-rw-r--r-- 1 root root 83K Oct 24 10:31 xR8mRBEdYAbokAEk.png\n",
            "-rw-r--r-- 1 root root 79K Oct 24 10:31 xsM5n0KOqwb5R58V.png\n",
            "-rw-r--r-- 1 root root 83K Oct 24 10:31 xyFhBLzUNatOchjM.png\n",
            "-rw-r--r-- 1 root root 85K Oct 24 10:31 Y0XtXW0pn979O6KK.png\n",
            "-rw-r--r-- 1 root root 77K Oct 24 10:31 y2auZRkrUIi0wvd2.png\n",
            "-rw-r--r-- 1 root root 81K Oct 24 10:31 Y7DDimLAYeU323au.png\n",
            "-rw-r--r-- 1 root root 71K Oct 24 10:31 Y8kfG3f6KJa1YJPA.png\n",
            "-rw-r--r-- 1 root root 82K Oct 24 10:31 y9DoLrI4Hlh2EUts.png\n",
            "-rw-r--r-- 1 root root 80K Oct 24 10:31 YaRk8v83K7BQmi5G.png\n",
            "-rw-r--r-- 1 root root 93K Oct 24 10:31 yaRRMcZS7JJ3xLK1.png\n",
            "-rw-r--r-- 1 root root 66K Oct 24 10:31 yB11HwUEuYHhVlKo.png\n",
            "-rw-r--r-- 1 root root 59K Oct 24 10:31 yB4dN62hOf4QeWGy.png\n",
            "-rw-r--r-- 1 root root 78K Oct 24 10:31 YEGCpdShhdOdneq4.png\n",
            "-rw-r--r-- 1 root root 72K Oct 24 10:31 yfoLtt4c7Rzc5VOW.png\n",
            "-rw-r--r-- 1 root root 81K Oct 24 10:31 yhXsHSeStA2dharc.png\n",
            "-rw-r--r-- 1 root root 84K Oct 24 10:31 YkZMyyS9fJdKmL3F.png\n",
            "-rw-r--r-- 1 root root 89K Oct 24 10:31 yM5JZ5J4uLeYIGOO.png\n",
            "-rw-r--r-- 1 root root 79K Oct 24 10:31 YnANqAVHDOylhBls.png\n",
            "-rw-r--r-- 1 root root 76K Oct 24 10:31 yPnREvUeAGYRKi7V.png\n",
            "-rw-r--r-- 1 root root 74K Oct 24 10:31 YrEfjld9tYk0b9m9.png\n",
            "-rw-r--r-- 1 root root 71K Oct 24 10:31 ySmdq2LJmCBQatvr.png\n",
            "-rw-r--r-- 1 root root 79K Oct 24 10:31 YTZfr87ETKYNkQRN.png\n",
            "-rw-r--r-- 1 root root 82K Oct 24 10:31 yUhvKMWrPQ9sJ78m.png\n",
            "-rw-r--r-- 1 root root 67K Oct 24 10:31 yWLbGUHRsGx5ocE9.png\n",
            "-rw-r--r-- 1 root root 80K Oct 24 10:31 ywXiLajxMzhy7BST.png\n",
            "-rw-r--r-- 1 root root 60K Oct 24 10:31 yYba9sH9TlYCAtoo.png\n",
            "-rw-r--r-- 1 root root 61K Oct 24 10:31 yYiQN5jZvkGqr6C5.png\n",
            "-rw-r--r-- 1 root root 80K Oct 24 10:31 Z4HE3jW7SMOonYFA.png\n",
            "-rw-r--r-- 1 root root 79K Oct 24 10:31 Z5ioSnqxnoCUixRW.png\n",
            "-rw-r--r-- 1 root root 83K Oct 24 10:31 Z9vSGzBQ8YLOXQIX.png\n",
            "-rw-r--r-- 1 root root 58K Oct 24 10:31 zb6wXq49QppiS9sf.png\n",
            "-rw-r--r-- 1 root root 57K Oct 24 10:31 ZBA0HPVlxkCdle5v.png\n",
            "-rw-r--r-- 1 root root 69K Oct 24 10:31 zBMp6VflTDyfCqa6.png\n",
            "-rw-r--r-- 1 root root 64K Oct 24 10:31 Ze6bn38U5XECyORF.png\n",
            "-rw-r--r-- 1 root root 61K Oct 24 10:31 ZFMh222FMJzr0yLD.png\n",
            "-rw-r--r-- 1 root root 81K Oct 24 10:31 ZGLUqWHjarBly23b.png\n",
            "-rw-r--r-- 1 root root 67K Oct 24 10:31 ZGQV7rFVePreAdOe.png\n",
            "-rw-r--r-- 1 root root 62K Oct 24 10:31 zGty6p4zGTzRip73.png\n",
            "-rw-r--r-- 1 root root 81K Oct 24 10:31 ZjHU1M9wOwgrm7SX.png\n",
            "-rw-r--r-- 1 root root 71K Oct 24 10:31 ZnuLAMdyI9xJCcKE.png\n",
            "-rw-r--r-- 1 root root 89K Oct 24 10:31 znZ3UHvUM8ySVpDR.png\n",
            "-rw-r--r-- 1 root root 70K Oct 24 10:31 Zo0eTAGaUb4ewSkf.png\n",
            "-rw-r--r-- 1 root root 75K Oct 24 10:31 zQvuYPyUR7gXdqXE.png\n",
            "-rw-r--r-- 1 root root 59K Oct 24 10:31 zru6yFR3dqc3SymW.png\n",
            "-rw-r--r-- 1 root root 65K Oct 24 10:31 zrZmvRbPtB57a4Vr.png\n",
            "-rw-r--r-- 1 root root 80K Oct 24 10:31 ZtLFRBgHAyauXYW6.png\n",
            "-rw-r--r-- 1 root root 83K Oct 24 10:31 ZULuRlvYzTJM8jC3.png\n",
            "-rw-r--r-- 1 root root 80K Oct 24 10:31 ZveWRNmdKejc1c4w.png\n",
            "-rw-r--r-- 1 root root 78K Oct 24 10:31 zVMOQFwVINs3dj8o.png\n",
            "-rw-r--r-- 1 root root 80K Oct 24 10:31 Zx5NMbS4YBf29guF.png\n",
            "-rw-r--r-- 1 root root 84K Oct 24 10:31 zXY93m62vUNIH4a0.png\n",
            "-rw-r--r-- 1 root root 81K Oct 24 10:31 zz1yffW197uYO6DI.png\n"
          ]
        }
      ]
    },
    {
      "cell_type": "code",
      "source": [
        "IMG_SIZE=224"
      ],
      "metadata": {
        "id": "sB97begkH8UI"
      },
      "execution_count": 8,
      "outputs": []
    },
    {
      "cell_type": "code",
      "source": [
        "datagen = tf.keras.preprocessing.image.ImageDataGenerator(\n",
        "    rescale=1./255,\n",
        "    validation_split=0.2\n",
        ")\n",
        "\n",
        "train_generator = datagen.flow_from_directory(\n",
        "    data_url,\n",
        "    shuffle=True,\n",
        "    target_size=(IMG_SIZE, IMG_SIZE),\n",
        "    class_mode='sparse',\n",
        "    subset='training'\n",
        ")\n",
        "\n",
        "val_generator = datagen.flow_from_directory(\n",
        "    data_url,\n",
        "    shuffle=False,\n",
        "    target_size=(IMG_SIZE, IMG_SIZE),\n",
        "    class_mode='sparse',\n",
        "    subset='validation'\n",
        ")"
      ],
      "metadata": {
        "colab": {
          "base_uri": "https://localhost:8080/"
        },
        "id": "-iY06J7VH1tL",
        "outputId": "c3968578-7040-40d9-8401-8a80ff439651"
      },
      "execution_count": 9,
      "outputs": [
        {
          "output_type": "stream",
          "name": "stdout",
          "text": [
            "Found 3502 images belonging to 4 classes.\n",
            "Found 874 images belonging to 4 classes.\n"
          ]
        }
      ]
    },
    {
      "cell_type": "code",
      "source": [],
      "metadata": {
        "id": "FjNGMyA4Idl2"
      },
      "execution_count": 11,
      "outputs": []
    },
    {
      "cell_type": "code",
      "source": [
        "# os.rmdir('/content/rockpaperscissors/rps-cv-images')\n",
        "# since the directory isnt empty, rmdir wont work here\n",
        "# let's us the shutil package\n",
        "\n",
        "import shutil\n",
        "shutil.rmtree('/content/rockpaperscissors/rps-cv-images')"
      ],
      "metadata": {
        "id": "GDbGXjsoIcp5"
      },
      "execution_count": 10,
      "outputs": []
    },
    {
      "cell_type": "code",
      "source": [
        "datagen = tf.keras.preprocessing.image.ImageDataGenerator(\n",
        "    rescale=1./255,\n",
        "    validation_split=0.2,\n",
        "    rotation_range=180,\n",
        "    horizontal_flip=True,\n",
        "    vertical_flip=True,\n",
        "    zoom_range=2\n",
        ")\n",
        "\n",
        "train_generator = datagen.flow_from_directory(\n",
        "    data_url,\n",
        "    shuffle=True,\n",
        "    target_size=(IMG_SIZE, IMG_SIZE),\n",
        "    class_mode='sparse',\n",
        "    subset='training'\n",
        ")\n",
        "\n",
        "val_generator = datagen.flow_from_directory(\n",
        "    data_url,\n",
        "    shuffle=False,\n",
        "    target_size=(IMG_SIZE, IMG_SIZE),\n",
        "    class_mode='sparse',\n",
        "    subset='validation'\n",
        ")"
      ],
      "metadata": {
        "colab": {
          "base_uri": "https://localhost:8080/"
        },
        "id": "_bCOM-BRJAZn",
        "outputId": "769d91f0-36f1-4959-ce29-de1169865358"
      },
      "execution_count": 11,
      "outputs": [
        {
          "output_type": "stream",
          "name": "stdout",
          "text": [
            "Found 1751 images belonging to 3 classes.\n",
            "Found 437 images belonging to 3 classes.\n"
          ]
        }
      ]
    },
    {
      "cell_type": "code",
      "source": [
        "print(val_generator.class_indices)\n",
        "print(train_generator.class_indices)"
      ],
      "metadata": {
        "colab": {
          "base_uri": "https://localhost:8080/"
        },
        "id": "TCjoQclzLNdN",
        "outputId": "1129ddd3-441a-4032-9b98-210c3130e221"
      },
      "execution_count": 12,
      "outputs": [
        {
          "output_type": "stream",
          "name": "stdout",
          "text": [
            "{'paper': 0, 'rock': 1, 'scissors': 2}\n",
            "{'paper': 0, 'rock': 1, 'scissors': 2}\n"
          ]
        }
      ]
    },
    {
      "cell_type": "code",
      "source": [
        "callbacks = [\n",
        "    keras.callbacks.EarlyStopping(\n",
        "        monitor=\"val_loss\",\n",
        "        min_delta=1e-2,\n",
        "        patience=2,\n",
        "        verbose=2,\n",
        "    )\n",
        "]"
      ],
      "metadata": {
        "id": "wXndv5c-jxGs"
      },
      "execution_count": 13,
      "outputs": []
    },
    {
      "cell_type": "code",
      "source": [
        "model_checkpointing = tf.keras.callbacks.ModelCheckpoint(\n",
        "    filepath='/content/',\n",
        "    save_weights_only=False,\n",
        "    monitor='val_accuracy',\n",
        "    mode='max',\n",
        "    verbose=1,\n",
        "    save_best_only=True)"
      ],
      "metadata": {
        "id": "Rv_dVoZwkUSI"
      },
      "execution_count": 14,
      "outputs": []
    },
    {
      "cell_type": "code",
      "source": [
        "from tensorflow.keras.applications.xception import decode_predictions"
      ],
      "metadata": {
        "id": "vomWAmqfk4Ab"
      },
      "execution_count": 15,
      "outputs": []
    },
    {
      "cell_type": "code",
      "source": [
        "FEATURE_EXTRACTOR_URL = 'https://tfhub.dev/google/imagenet/resnet_v2_101/feature_vector/5'"
      ],
      "metadata": {
        "id": "XIWzKGw2oXPV"
      },
      "execution_count": 16,
      "outputs": []
    },
    {
      "cell_type": "code",
      "source": [
        "import tensorflow_hub as hub\n",
        "model = tf.keras.Sequential([\n",
        "    hub.KerasLayer(FEATURE_EXTRACTOR_URL, trainable=False, input_shape=(IMG_SIZE, IMG_SIZE, 3)),\n",
        "    layers.Dense(3, activation='softmax')\n",
        "])"
      ],
      "metadata": {
        "id": "gPo1cPNfoYEQ"
      },
      "execution_count": 17,
      "outputs": []
    },
    {
      "cell_type": "code",
      "source": [
        "# model=tf.keras.applications.xception.Xception(weights='imagenet',include_top=True)"
      ],
      "metadata": {
        "colab": {
          "base_uri": "https://localhost:8080/"
        },
        "id": "x6pIyoVumrAE",
        "outputId": "9abc6576-defa-4604-a7e3-bba165667711"
      },
      "execution_count": 21,
      "outputs": [
        {
          "output_type": "stream",
          "name": "stdout",
          "text": [
            "Downloading data from https://storage.googleapis.com/tensorflow/keras-applications/xception/xception_weights_tf_dim_ordering_tf_kernels.h5\n",
            "91884032/91884032 [==============================] - 1s 0us/step\n"
          ]
        }
      ]
    },
    {
      "cell_type": "code",
      "source": [
        "import requests"
      ],
      "metadata": {
        "id": "2zDwB6zim_9_"
      },
      "execution_count": 18,
      "outputs": []
    },
    {
      "cell_type": "code",
      "source": [
        "# response=requests.get('https://storage.googleapis.com/download.tensorflow.org/data/imagenet_class_index.json')\n",
        "# imgnet_map=response.json()\n",
        "# imgnet_map={v[1]:k for k, v in imgnet_map.items()}\n",
        "# #make model predictions\n",
        "# # img=tf.keras.applications.xception.preprocess_input(img)\n",
        "# # predictions=model.predict(np.array([img]))\n",
        "# # decode_predictions(predictions,top=2)"
      ],
      "metadata": {
        "id": "CZ3hmNZ6m8Gk"
      },
      "execution_count": 25,
      "outputs": []
    },
    {
      "cell_type": "code",
      "source": [
        "# model.compile(optimizer=keras.optimizers.Adam(),\n",
        "#               loss=keras.losses.BinaryCrossentropy(from_logits=True),\n",
        "#               metrics=[keras.metrics.Accuracy(),keras.metrics.TruePositives()])\n",
        "# model.fit(train_generator,validation_data=val_generator, epochs=20, callbacks=[callbacks,model_checkpointing],verbose=2)"
      ],
      "metadata": {
        "id": "whdSF905nLET"
      },
      "execution_count": null,
      "outputs": []
    },
    {
      "cell_type": "code",
      "source": [
        "model.compile(\n",
        "    optimizer='adam',\n",
        "    loss='sparse_categorical_crossentropy',\n",
        "    metrics=['accuracy']\n",
        ")"
      ],
      "metadata": {
        "id": "jUlQojPaouFE"
      },
      "execution_count": 19,
      "outputs": []
    },
    {
      "cell_type": "code",
      "source": [
        "history = model.fit(\n",
        "    train_generator,\n",
        "    epochs=20,\n",
        "    validation_data=val_generator,\n",
        "    callbacks=[model_checkpointing, callbacks],\n",
        "    verbose=2\n",
        ")"
      ],
      "metadata": {
        "colab": {
          "base_uri": "https://localhost:8080/"
        },
        "id": "eD889GJrotUs",
        "outputId": "6f378458-f7e0-4b72-88d1-2e035482939e"
      },
      "execution_count": 20,
      "outputs": [
        {
          "output_type": "stream",
          "name": "stdout",
          "text": [
            "Epoch 1/20\n",
            "\n",
            "Epoch 1: val_accuracy improved from -inf to 0.79863, saving model to /content/\n",
            "55/55 - 57s - loss: 0.7761 - accuracy: 0.6739 - val_loss: 0.4935 - val_accuracy: 0.7986 - 57s/epoch - 1s/step\n",
            "Epoch 2/20\n",
            "\n",
            "Epoch 2: val_accuracy improved from 0.79863 to 0.83982, saving model to /content/\n",
            "55/55 - 39s - loss: 0.4537 - accuracy: 0.8218 - val_loss: 0.3933 - val_accuracy: 0.8398 - 39s/epoch - 718ms/step\n",
            "Epoch 3/20\n",
            "\n",
            "Epoch 3: val_accuracy improved from 0.83982 to 0.87185, saving model to /content/\n",
            "55/55 - 38s - loss: 0.3676 - accuracy: 0.8635 - val_loss: 0.3414 - val_accuracy: 0.8719 - 38s/epoch - 698ms/step\n",
            "Epoch 4/20\n",
            "\n",
            "Epoch 4: val_accuracy did not improve from 0.87185\n",
            "55/55 - 28s - loss: 0.3555 - accuracy: 0.8624 - val_loss: 0.3454 - val_accuracy: 0.8673 - 28s/epoch - 514ms/step\n",
            "Epoch 5/20\n",
            "\n",
            "Epoch 5: val_accuracy did not improve from 0.87185\n",
            "55/55 - 28s - loss: 0.3287 - accuracy: 0.8704 - val_loss: 0.3391 - val_accuracy: 0.8627 - 28s/epoch - 507ms/step\n",
            "Epoch 5: early stopping\n"
          ]
        }
      ]
    },
    {
      "cell_type": "code",
      "source": [
        "model.save(\"my_h5_model.h5\")"
      ],
      "metadata": {
        "id": "YpK1yoRMsTk5"
      },
      "execution_count": 25,
      "outputs": []
    },
    {
      "cell_type": "code",
      "source": [
        "import matplotlib.pyplot as plt\n",
        "plt.plot(history.history[\"accuracy\"],label='accuracy')\n",
        "plt.plot(history.history['val_accuracy'],label='validation accuracy')\n",
        "plt.title('Model Accuracy')\n",
        "plt.xlabel('Epoch')\n",
        "plt.ylabel('Accuracy')\n",
        "plt.legend(loc='lower right')"
      ],
      "metadata": {
        "colab": {
          "base_uri": "https://localhost:8080/",
          "height": 312
        },
        "id": "j8TrrZTHsaDP",
        "outputId": "3dbb7525-1400-4155-c859-af576d1db867"
      },
      "execution_count": 32,
      "outputs": [
        {
          "output_type": "execute_result",
          "data": {
            "text/plain": [
              "<matplotlib.legend.Legend at 0x7f66fead2dd0>"
            ]
          },
          "metadata": {},
          "execution_count": 32
        },
        {
          "output_type": "display_data",
          "data": {
            "text/plain": [
              "<Figure size 432x288 with 1 Axes>"
            ],
            "image/png": "[encoded data removed]"
          },
          "metadata": {
            "needs_background": "light"
          }
        }
      ]
    },
    {
      "cell_type": "code",
      "source": [
        "callbacks = [\n",
        "    keras.callbacks.EarlyStopping(\n",
        "        monitor=\"val_loss\",\n",
        "        # min_delta=1e-2,\n",
        "        patience=4,\n",
        "        verbose=2,\n",
        "    )\n",
        "]"
      ],
      "metadata": {
        "id": "Itma2UG6uRtj"
      },
      "execution_count": 35,
      "outputs": []
    },
    {
      "cell_type": "code",
      "source": [
        "model_checkpointing = tf.keras.callbacks.ModelCheckpoint(\n",
        "    filepath='/content/',\n",
        "    save_weights_only=False,\n",
        "    monitor='val_accuracy',\n",
        "    mode='max',\n",
        "    verbose=1,\n",
        "    save_best_only=True)"
      ],
      "metadata": {
        "id": "nY4PZd4guYf_"
      },
      "execution_count": 36,
      "outputs": []
    },
    {
      "cell_type": "code",
      "source": [
        "model = tf.keras.Sequential([\n",
        "    hub.KerasLayer(FEATURE_EXTRACTOR_URL, trainable=False, input_shape=(IMG_SIZE, IMG_SIZE, 3)),\n",
        "    layers.Dense(3, activation='softmax')\n",
        "])\n",
        "\n",
        "model.compile(\n",
        "    optimizer='adam',\n",
        "    loss='sparse_categorical_crossentropy',\n",
        "    metrics=['accuracy']\n",
        ")\n",
        "\n",
        "history = model.fit(\n",
        "    train_generator,\n",
        "    epochs=20,\n",
        "    validation_data=val_generator,\n",
        "    callbacks=[model_checkpointing, callbacks],\n",
        "    verbose=2\n",
        ")\n"
      ],
      "metadata": {
        "colab": {
          "base_uri": "https://localhost:8080/"
        },
        "id": "l0XxahY6udBm",
        "outputId": "8005d738-ec7b-4a54-9179-9ce10c066bc4"
      },
      "execution_count": 37,
      "outputs": [
        {
          "output_type": "stream",
          "name": "stdout",
          "text": [
            "Epoch 1/20\n",
            "\n",
            "Epoch 1: val_accuracy improved from -inf to 0.76659, saving model to /content/\n",
            "55/55 - 48s - loss: 0.8203 - accuracy: 0.6476 - val_loss: 0.5291 - val_accuracy: 0.7666 - 48s/epoch - 868ms/step\n",
            "Epoch 2/20\n",
            "\n",
            "Epoch 2: val_accuracy improved from 0.76659 to 0.83982, saving model to /content/\n",
            "55/55 - 41s - loss: 0.4650 - accuracy: 0.8167 - val_loss: 0.4340 - val_accuracy: 0.8398 - 41s/epoch - 741ms/step\n",
            "Epoch 3/20\n",
            "\n",
            "Epoch 3: val_accuracy improved from 0.83982 to 0.84897, saving model to /content/\n",
            "55/55 - 39s - loss: 0.3635 - accuracy: 0.8664 - val_loss: 0.3937 - val_accuracy: 0.8490 - 39s/epoch - 716ms/step\n",
            "Epoch 4/20\n",
            "\n",
            "Epoch 4: val_accuracy improved from 0.84897 to 0.85126, saving model to /content/\n",
            "55/55 - 40s - loss: 0.3293 - accuracy: 0.8692 - val_loss: 0.3536 - val_accuracy: 0.8513 - 40s/epoch - 723ms/step\n",
            "Epoch 5/20\n",
            "\n",
            "Epoch 5: val_accuracy improved from 0.85126 to 0.90847, saving model to /content/\n",
            "55/55 - 40s - loss: 0.3497 - accuracy: 0.8709 - val_loss: 0.2864 - val_accuracy: 0.9085 - 40s/epoch - 719ms/step\n",
            "Epoch 6/20\n",
            "\n",
            "Epoch 6: val_accuracy did not improve from 0.90847\n",
            "55/55 - 29s - loss: 0.2956 - accuracy: 0.8852 - val_loss: 0.3061 - val_accuracy: 0.8833 - 29s/epoch - 524ms/step\n",
            "Epoch 7/20\n",
            "\n",
            "Epoch 7: val_accuracy did not improve from 0.90847\n",
            "55/55 - 28s - loss: 0.2802 - accuracy: 0.8978 - val_loss: 0.2947 - val_accuracy: 0.8947 - 28s/epoch - 515ms/step\n",
            "Epoch 8/20\n",
            "\n",
            "Epoch 8: val_accuracy did not improve from 0.90847\n",
            "55/55 - 29s - loss: 0.2582 - accuracy: 0.9052 - val_loss: 0.2730 - val_accuracy: 0.9016 - 29s/epoch - 526ms/step\n",
            "Epoch 9/20\n",
            "\n",
            "Epoch 9: val_accuracy did not improve from 0.90847\n",
            "55/55 - 29s - loss: 0.2393 - accuracy: 0.9063 - val_loss: 0.2633 - val_accuracy: 0.8993 - 29s/epoch - 523ms/step\n",
            "Epoch 10/20\n",
            "\n",
            "Epoch 10: val_accuracy did not improve from 0.90847\n",
            "55/55 - 28s - loss: 0.2799 - accuracy: 0.8949 - val_loss: 0.2567 - val_accuracy: 0.8970 - 28s/epoch - 507ms/step\n",
            "Epoch 11/20\n",
            "\n",
            "Epoch 11: val_accuracy did not improve from 0.90847\n",
            "55/55 - 28s - loss: 0.2447 - accuracy: 0.9166 - val_loss: 0.3011 - val_accuracy: 0.8833 - 28s/epoch - 503ms/step\n",
            "Epoch 12/20\n",
            "\n",
            "Epoch 12: val_accuracy did not improve from 0.90847\n",
            "55/55 - 28s - loss: 0.2500 - accuracy: 0.9075 - val_loss: 0.2957 - val_accuracy: 0.8856 - 28s/epoch - 507ms/step\n",
            "Epoch 13/20\n",
            "\n",
            "Epoch 13: val_accuracy improved from 0.90847 to 0.91304, saving model to /content/\n",
            "55/55 - 39s - loss: 0.2586 - accuracy: 0.9029 - val_loss: 0.2417 - val_accuracy: 0.9130 - 39s/epoch - 703ms/step\n",
            "Epoch 14/20\n",
            "\n",
            "Epoch 14: val_accuracy did not improve from 0.91304\n",
            "55/55 - 29s - loss: 0.2549 - accuracy: 0.9063 - val_loss: 0.2611 - val_accuracy: 0.8924 - 29s/epoch - 521ms/step\n",
            "Epoch 15/20\n",
            "\n",
            "Epoch 15: val_accuracy did not improve from 0.91304\n",
            "55/55 - 29s - loss: 0.2372 - accuracy: 0.9103 - val_loss: 0.2887 - val_accuracy: 0.8856 - 29s/epoch - 520ms/step\n",
            "Epoch 16/20\n",
            "\n",
            "Epoch 16: val_accuracy did not improve from 0.91304\n",
            "55/55 - 28s - loss: 0.2531 - accuracy: 0.9018 - val_loss: 0.2198 - val_accuracy: 0.9085 - 28s/epoch - 508ms/step\n",
            "Epoch 17/20\n",
            "\n",
            "Epoch 17: val_accuracy did not improve from 0.91304\n",
            "55/55 - 28s - loss: 0.2383 - accuracy: 0.9160 - val_loss: 0.2261 - val_accuracy: 0.9062 - 28s/epoch - 506ms/step\n",
            "Epoch 18/20\n",
            "\n",
            "Epoch 18: val_accuracy improved from 0.91304 to 0.94966, saving model to /content/\n",
            "55/55 - 38s - loss: 0.2435 - accuracy: 0.9023 - val_loss: 0.1793 - val_accuracy: 0.9497 - 38s/epoch - 695ms/step\n",
            "Epoch 19/20\n",
            "\n",
            "Epoch 19: val_accuracy did not improve from 0.94966\n",
            "55/55 - 28s - loss: 0.2434 - accuracy: 0.9086 - val_loss: 0.2869 - val_accuracy: 0.8924 - 28s/epoch - 504ms/step\n",
            "Epoch 20/20\n",
            "\n",
            "Epoch 20: val_accuracy did not improve from 0.94966\n",
            "55/55 - 29s - loss: 0.2319 - accuracy: 0.9143 - val_loss: 0.2534 - val_accuracy: 0.9130 - 29s/epoch - 520ms/step\n"
          ]
        }
      ]
    },
    {
      "cell_type": "code",
      "source": [
        "model.save(\"new_h5_model.h5\")"
      ],
      "metadata": {
        "id": "hVUCzl8bxS8h"
      },
      "execution_count": 38,
      "outputs": []
    },
    {
      "cell_type": "code",
      "source": [
        "plt.plot(history.history[\"accuracy\"],label='accuracy')\n",
        "plt.plot(history.history['val_accuracy'],label='validation accuracy')\n",
        "plt.title('Model Accuracy')\n",
        "plt.xlabel('Epoch')\n",
        "plt.ylabel('Accuracy')\n",
        "plt.legend(loc='lower right')"
      ],
      "metadata": {
        "colab": {
          "base_uri": "https://localhost:8080/",
          "height": 312
        },
        "id": "DlDZ_IHMxcVd",
        "outputId": "18e7b55c-f77d-4aa4-c891-a56b46c40d82"
      },
      "execution_count": 39,
      "outputs": [
        {
          "output_type": "execute_result",
          "data": {
            "text/plain": [
              "<matplotlib.legend.Legend at 0x7f66f9b34e90>"
            ]
          },
          "metadata": {},
          "execution_count": 39
        },
        {
          "output_type": "display_data",
          "data": {
            "text/plain": [
              "<Figure size 432x288 with 1 Axes>"
            ],
            "image/png": "[encoded data removed]"
          },
          "metadata": {
            "needs_background": "light"
          }
        }
      ]
    }
  ]
}